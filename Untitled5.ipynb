{
  "cells": [
    {
      "cell_type": "markdown",
      "metadata": {
        "id": "view-in-github",
        "colab_type": "text"
      },
      "source": [
        "<a href=\"https://colab.research.google.com/github/Afzalkhm12/Kelompok-3-MovieLens-Recommender-System-NCF-vs-MF/blob/main/Untitled5.ipynb\" target=\"_parent\"><img src=\"https://colab.research.google.com/assets/colab-badge.svg\" alt=\"Open In Colab\"/></a>"
      ]
    },
    {
      "cell_type": "code",
      "execution_count": 6,
      "metadata": {
        "colab": {
          "base_uri": "https://localhost:8080/"
        },
        "id": "5Y35iY_kEBPC",
        "outputId": "70e5bc9c-73ef-466a-d261-0cfa69b39762"
      },
      "outputs": [
        {
          "output_type": "execute_result",
          "data": {
            "text/plain": [
              "<torch._C.Generator at 0x7cb07add68b0>"
            ]
          },
          "metadata": {},
          "execution_count": 6
        }
      ],
      "source": [
        "\n",
        "import os, sys, math, random, glob, gc, json, time\n",
        "import numpy as np\n",
        "import pandas as pd\n",
        "from tqdm import tqdm\n",
        "\n",
        "import torch\n",
        "import torch.nn as nn\n",
        "from torch.utils.data import Dataset, DataLoader\n",
        "from sklearn.metrics import mean_squared_error, mean_absolute_error\n",
        "\n",
        "from torch.utils.tensorboard import SummaryWriter\n",
        "import matplotlib.pyplot as plt\n",
        "\n",
        "SEED = 42\n",
        "random.seed(SEED)\n",
        "np.random.seed(SEED)\n",
        "torch.manual_seed(SEED)"
      ]
    },
    {
      "cell_type": "code",
      "execution_count": 7,
      "metadata": {
        "colab": {
          "base_uri": "https://localhost:8080/"
        },
        "id": "mT4QL1MvI6Z7",
        "outputId": "e83dc088-ee77-4ef1-b5cf-4ef2818fd58c"
      },
      "outputs": [
        {
          "output_type": "stream",
          "name": "stdout",
          "text": [
            "Drive already mounted at /content/drive; to attempt to forcibly remount, call drive.mount(\"/content/drive\", force_remount=True).\n",
            "== Dataset Paths ==\n",
            "genome-scores.csv: /content/drive/MyDrive/Penelitian/uas/genome-scores.csv\n",
            "genome-tags.csv: /content/drive/MyDrive/Penelitian/uas/genome-tags.csv\n",
            "links.csv: /content/drive/MyDrive/Penelitian/uas/links.csv\n",
            "movies.csv: /content/drive/MyDrive/Penelitian/uas/movies.csv\n",
            "ratings.csv: /content/drive/MyDrive/Penelitian/uas/ratings.csv\n",
            "tags.csv: /content/drive/MyDrive/Penelitian/uas/tags.csv\n",
            "Model dir: /content/drive/MyDrive/Penelitian/uas/models\n"
          ]
        }
      ],
      "source": [
        "from google.colab import drive\n",
        "\n",
        "drive.mount('/content/drive')\n",
        "\n",
        "BASE_CANDIDATES = [\n",
        "    '/content/drive/MyDrive/Penelitian/uas',\n",
        "]\n",
        "\n",
        "REQUIRED_FILES = [\n",
        "    'genome-scores.csv', 'genome-tags.csv', 'links.csv',\n",
        "    'movies.csv', 'ratings.csv', 'tags.csv'\n",
        "]\n",
        "\n",
        "def find_file(bases, fname):\n",
        "    for b in bases:\n",
        "        if os.path.exists(b):\n",
        "            hits = glob.glob(os.path.join(b, '**', fname), recursive=True)\n",
        "            if len(hits) > 0:\n",
        "                hits = sorted(hits, key=len)\n",
        "                return hits[0]\n",
        "    return None\n",
        "\n",
        "paths = {}\n",
        "for f in REQUIRED_FILES:\n",
        "    p = find_file(BASE_CANDIDATES, f)\n",
        "    assert p is not None, f\"File '{f}' tidak ditemukan di Penelitian/uas/. Pastikan nama file sesuai.\"\n",
        "    paths[f] = p\n",
        "\n",
        "print(\"== Dataset Paths ==\")\n",
        "for k,v in paths.items():\n",
        "    print(f\"{k}: {v}\")\n",
        "\n",
        "BASE_DIR = os.path.dirname(list(paths.values())[0])\n",
        "MODEL_DIR = os.path.join(BASE_DIR, 'models')\n",
        "FIG_DIR = os.path.join(MODEL_DIR, 'figs')\n",
        "RUNS_DIR = os.path.join(MODEL_DIR, 'runs')\n",
        "os.makedirs(MODEL_DIR, exist_ok=True)\n",
        "os.makedirs(FIG_DIR, exist_ok=True)\n",
        "os.makedirs(RUNS_DIR, exist_ok=True)\n",
        "print(\"Model dir:\", MODEL_DIR)"
      ]
    },
    {
      "cell_type": "code",
      "execution_count": 8,
      "metadata": {
        "colab": {
          "base_uri": "https://localhost:8080/"
        },
        "id": "R0xDlOXkJwRx",
        "outputId": "d7221853-21dd-4693-830c-d83f13a4726f"
      },
      "outputs": [
        {
          "output_type": "stream",
          "name": "stdout",
          "text": [
            "Ratings head:    userid  movieid  rating   timestamp\n",
            "0       1        2     3.5  1112486027\n",
            "1       1       29     3.5  1112484676\n",
            "2       1       32     3.5  1112484819\n",
            "3       1       47     3.5  1112484727\n",
            "4       1       50     3.5  1112484580\n",
            "Movies head:    movieid                               title  \\\n",
            "0        1                    Toy Story (1995)   \n",
            "1        2                      Jumanji (1995)   \n",
            "2        3             Grumpier Old Men (1995)   \n",
            "3        4            Waiting to Exhale (1995)   \n",
            "4        5  Father of the Bride Part II (1995)   \n",
            "\n",
            "                                        genres  \n",
            "0  Adventure|Animation|Children|Comedy|Fantasy  \n",
            "1                   Adventure|Children|Fantasy  \n",
            "2                               Comedy|Romance  \n",
            "3                         Comedy|Drama|Romance  \n",
            "4                                       Comedy  \n",
            "N ratings: 20000263 | N movies: 27278 | N users: 138493\n",
            "Rating range: 0.5 to 5.0\n",
            "Top genres: Drama          13344\n",
            "Comedy          8374\n",
            "Thriller        4178\n",
            "Romance         4127\n",
            "Action          3520\n",
            "Crime           2939\n",
            "Horror          2611\n",
            "Documentary     2471\n",
            "Adventure       2329\n",
            "Sci-Fi          1743\n",
            "Mystery         1514\n",
            "Fantasy         1412\n",
            "War             1194\n",
            "Children        1139\n",
            "Musical         1036\n",
            "Name: count, dtype: int64\n",
            "Top user tags: tag\n",
            "sci-fi                3576\n",
            "based on a book       3307\n",
            "atmospheric           3169\n",
            "comedy                3078\n",
            "action                3068\n",
            "nudity (topless)      2646\n",
            "surreal               2528\n",
            "twist ending          2367\n",
            "bd-r                  2334\n",
            "funny                 2253\n",
            "quirky                2034\n",
            "dystopia              2015\n",
            "classic               1971\n",
            "stylized              1944\n",
            "dark comedy           1910\n",
            "romance               1874\n",
            "fantasy               1850\n",
            "psychology            1763\n",
            "time travel           1572\n",
            "disturbing            1524\n",
            "visually appealing    1511\n",
            "aliens                1439\n",
            "social commentary     1424\n",
            "thought-provoking     1422\n",
            "adventure             1374\n",
            "violence              1361\n",
            "criterion             1352\n",
            "animation             1345\n",
            "drugs                 1336\n",
            "dark                  1312\n",
            "true story            1292\n",
            "imdb top 250          1272\n",
            "black comedy          1224\n",
            "drama                 1211\n",
            "space                 1208\n",
            "clv                   1199\n",
            "superhero             1177\n",
            "world war ii          1157\n",
            "post-apocalyptic      1118\n",
            "horror                1103\n",
            "betamax               1093\n",
            "cult film             1090\n",
            "thriller              1088\n",
            "satire                1081\n",
            "predictable           1073\n",
            "revenge               1051\n",
            "tense                 1049\n",
            "boring                1038\n",
            "politics              1027\n",
            "bittersweet           1022\n",
            "Name: count, dtype: Int64\n"
          ]
        }
      ],
      "source": [
        "def read_csv_lower(path, **kwargs):\n",
        "    df = pd.read_csv(path, **kwargs)\n",
        "    df.columns = [c.lower() for c in df.columns]\n",
        "    return df\n",
        "\n",
        "ratings_dtypes = {'userid': np.int32, 'movieid': np.int32, 'rating': np.float32, 'timestamp': np.int64}\n",
        "movies_dtypes  = {'movieid': np.int32, 'title': 'string', 'genres': 'string'}\n",
        "links_dtypes   = {'movieid': np.int32, 'imdbid': 'Int64', 'tmdbid': 'Int64'}\n",
        "\n",
        "gscores_dtypes = {'movieid': np.int32, 'tagid': np.int32, 'relevance': np.float32}\n",
        "gtags_dtypes   = {'tagid': np.int32, 'tag': 'string'}\n",
        "\n",
        "tags_dtypes    = {'userid': np.int32, 'movieid': np.int32, 'tag': 'string', 'timestamp': np.int64}\n",
        "\n",
        "USE_SUBSET = False\n",
        "SUBSET_N = 2_000_000\n",
        "\n",
        "ratings = read_csv_lower(paths['ratings.csv'], dtype=ratings_dtypes)\n",
        "if USE_SUBSET and len(ratings) > SUBSET_N:\n",
        "    ratings = ratings.sample(SUBSET_N, random_state=SEED).sort_values('timestamp').reset_index(drop=True)\n",
        "\n",
        "movies  = read_csv_lower(paths['movies.csv'], dtype=movies_dtypes)\n",
        "links   = read_csv_lower(paths['links.csv'], dtype=links_dtypes)\n",
        "\n",
        "gscores = read_csv_lower(paths['genome-scores.csv'], dtype=gscores_dtypes)\n",
        "gtags   = read_csv_lower(paths['genome-tags.csv'], dtype=gtags_dtypes)\n",
        "user_tags = read_csv_lower(paths['tags.csv'], dtype=tags_dtypes)\n",
        "\n",
        "print(\"Ratings head:\", ratings.head())\n",
        "print(\"Movies head:\", movies.head())\n",
        "print(\"N ratings:\", len(ratings), \"| N movies:\", movies['movieid'].nunique(), \"| N users:\", ratings['userid'].nunique())\n",
        "\n",
        "# Range rating aktual\n",
        "R_MIN, R_MAX = float(ratings['rating'].min()), float(ratings['rating'].max())\n",
        "print('Rating range:', R_MIN, 'to', R_MAX)\n",
        "\n",
        "# ---------------------------\n",
        "# EDA Ringkas (disimpan png)\n",
        "# ---------------------------\n",
        "plt.figure()\n",
        "ratings['rating'].hist(bins=20)\n",
        "plt.title('Distribusi Rating')\n",
        "plt.xlabel('Rating'); plt.ylabel('Frekuensi')\n",
        "plt.tight_layout(); plt.savefig(os.path.join(FIG_DIR, 'rating_distribution.png')); plt.close()\n",
        "\n",
        "# Interaksi per user & item\n",
        "ui_per_user = ratings.groupby('userid').size()\n",
        "ui_per_item = ratings.groupby('movieid').size()\n",
        "\n",
        "plt.figure(); ui_per_user.hist(bins=50)\n",
        "plt.title('Distribusi Interaksi per User')\n",
        "plt.xlabel('# Interaksi'); plt.ylabel('Frekuensi')\n",
        "plt.tight_layout(); plt.savefig(os.path.join(FIG_DIR, 'interaksi_per_user.png')); plt.close()\n",
        "\n",
        "\n",
        "plt.figure(); ui_per_item.hist(bins=50)\n",
        "plt.title('Distribusi Interaksi per Item')\n",
        "plt.xlabel('# Interaksi'); plt.ylabel('Frekuensi')\n",
        "plt.tight_layout(); plt.savefig(os.path.join(FIG_DIR, 'interaksi_per_item.png')); plt.close()\n",
        "\n",
        "movies['genres_list'] = movies['genres'].fillna('(no genres listed)').apply(lambda s: s.split('|'))\n",
        "all_genres = pd.Series([g for lst in movies['genres_list'] for g in lst])\n",
        "all_genres.value_counts().head(15).to_csv(os.path.join(MODEL_DIR, 'top_genres.csv'))\n",
        "print('Top genres:', all_genres.value_counts().head(15))\n",
        "\n",
        "user_tags['tag'] = user_tags['tag'].fillna('').str.lower()\n",
        "user_tags['tag'].value_counts().head(50).to_csv(os.path.join(MODEL_DIR, 'top_user_tags.csv'))\n",
        "print('Top user tags:', user_tags['tag'].value_counts().head(50))"
      ]
    },
    {
      "cell_type": "code",
      "execution_count": 4,
      "metadata": {
        "colab": {
          "base_uri": "https://localhost:8080/"
        },
        "id": "_EYXYRL5KHrt",
        "outputId": "bddbaf62-2940-425c-8105-fde0a74bc96a"
      },
      "outputs": [
        {
          "output_type": "stream",
          "name": "stdout",
          "text": [
            "n_users: 138493 | n_items: 26744\n"
          ]
        }
      ],
      "source": [
        "uid_unique = ratings['userid'].unique()\n",
        "mid_unique = ratings['movieid'].unique()\n",
        "user2idx = {u:i for i,u in enumerate(uid_unique)}\n",
        "item2idx = {m:i for i,m in enumerate(mid_unique)}\n",
        "\n",
        "ratings['u'] = ratings['userid'].map(user2idx).astype(np.int32)\n",
        "ratings['i'] = ratings['movieid'].map(item2idx).astype(np.int32)\n",
        "\n",
        "n_users = len(user2idx)\n",
        "n_items = len(item2idx)\n",
        "print('n_users:', n_users, '| n_items:', n_items)\n"
      ]
    },
    {
      "cell_type": "code",
      "execution_count": 5,
      "metadata": {
        "colab": {
          "base_uri": "https://localhost:8080/"
        },
        "id": "z2dzeencKL5g",
        "outputId": "4b07252f-806b-46fc-af00-e4d6abf3e7a9"
      },
      "outputs": [
        {
          "output_type": "stream",
          "name": "stdout",
          "text": [
            "Split sizes -> Train: 19723277 | Val: 138493 | Test: 138493\n"
          ]
        }
      ],
      "source": [
        "ratings = ratings.sort_values(['userid','timestamp']).reset_index(drop=True)\n",
        "\n",
        "cnt = ratings.groupby('userid')['timestamp'].transform('count')\n",
        "ord = ratings.groupby('userid')['timestamp'].rank(method='first', ascending=True)\n",
        "\n",
        "is_test = (ord == cnt)\n",
        "is_val  = (cnt >= 3) & (ord == (cnt - 1))\n",
        "is_train = ~(is_test | is_val)\n",
        "\n",
        "train_df = ratings[is_train][['u','i','rating']].reset_index(drop=True)\n",
        "val_df   = ratings[is_val][['u','i','rating']].reset_index(drop=True)\n",
        "test_df  = ratings[is_test][['u','i','rating']].reset_index(drop=True)\n",
        "\n",
        "print('Split sizes -> Train:', len(train_df), '| Val:', len(val_df), '| Test:', len(test_df))"
      ]
    },
    {
      "cell_type": "code",
      "execution_count": 6,
      "metadata": {
        "id": "W6KlRXReONxf"
      },
      "outputs": [],
      "source": [
        "class ExplicitDataset(Dataset):\n",
        "    def __init__(self, df):\n",
        "        self.u = torch.tensor(df['u'].values, dtype=torch.long)\n",
        "        self.i = torch.tensor(df['i'].values, dtype=torch.long)\n",
        "        self.r = torch.tensor(df['rating'].values, dtype=torch.float32)\n",
        "    def __len__(self):\n",
        "        return len(self.r)\n",
        "    def __getitem__(self, idx):\n",
        "        return self.u[idx], self.i[idx], self.r[idx]\n",
        "\n",
        "BATCH_SIZE = 4096\n",
        "NUM_WORKERS = 2\n",
        "PERSISTENT = False\n",
        "\n",
        "train_ds = ExplicitDataset(train_df)\n",
        "val_ds   = ExplicitDataset(val_df) if len(val_df) > 0 else None\n",
        "test_ds  = ExplicitDataset(test_df)\n",
        "\n",
        "train_loader = DataLoader(train_ds, batch_size=BATCH_SIZE, shuffle=True,  num_workers=NUM_WORKERS, pin_memory=True, persistent_workers=PERSISTENT)\n",
        "val_loader   = DataLoader(val_ds,   batch_size=BATCH_SIZE, shuffle=False, num_workers=NUM_WORKERS, pin_memory=True, persistent_workers=PERSISTENT) if val_ds is not None else None\n",
        "test_loader  = DataLoader(test_ds,  batch_size=BATCH_SIZE, shuffle=False, num_workers=NUM_WORKERS, pin_memory=True, persistent_workers=PERSISTENT)"
      ]
    },
    {
      "cell_type": "code",
      "execution_count": 7,
      "metadata": {
        "id": "o5w6ziydOT5v"
      },
      "outputs": [],
      "source": [
        "class MF(nn.Module):\n",
        "    def __init__(self, n_users, n_items, emb_dim=64, bias=True):\n",
        "        super().__init__()\n",
        "        self.user_emb = nn.Embedding(n_users, emb_dim)\n",
        "        self.item_emb = nn.Embedding(n_items, emb_dim)\n",
        "        nn.init.normal_(self.user_emb.weight, std=0.01)\n",
        "        nn.init.normal_(self.item_emb.weight, std=0.01)\n",
        "        self.use_bias = bias\n",
        "        if bias:\n",
        "            self.user_bias = nn.Embedding(n_users, 1)\n",
        "            self.item_bias = nn.Embedding(n_items, 1)\n",
        "            nn.init.zeros_(self.user_bias.weight)\n",
        "            nn.init.zeros_(self.item_bias.weight)\n",
        "        else:\n",
        "            self.user_bias = None\n",
        "            self.item_bias = None\n",
        "    def forward(self, u, i):\n",
        "        ue = self.user_emb(u)\n",
        "        ie = self.item_emb(i)\n",
        "        dot = (ue * ie).sum(dim=1)\n",
        "        if self.use_bias:\n",
        "            dot = dot + self.user_bias(u).squeeze(1) + self.item_bias(i).squeeze(1)\n",
        "        return dot\n",
        "\n",
        "class NCF(nn.Module):\n",
        "    def __init__(self, n_users, n_items, emb_dim=64, mlp_dims=(256,128,64), dropout=0.3):\n",
        "        super().__init__()\n",
        "        self.user_emb = nn.Embedding(n_users, emb_dim)\n",
        "        self.item_emb = nn.Embedding(n_items, emb_dim)\n",
        "        nn.init.normal_(self.user_emb.weight, std=0.01)\n",
        "        nn.init.normal_(self.item_emb.weight, std=0.01)\n",
        "        layers = []\n",
        "        in_dim = emb_dim*2\n",
        "        for h in mlp_dims:\n",
        "            layers.append(nn.Linear(in_dim, h))\n",
        "            layers.append(nn.ReLU())\n",
        "            layers.append(nn.Dropout(dropout))\n",
        "            in_dim = h\n",
        "        layers.append(nn.Linear(in_dim, 1))\n",
        "        self.mlp = nn.Sequential(*layers)\n",
        "    def forward(self, u, i):\n",
        "        ue = self.user_emb(u)\n",
        "        ie = self.item_emb(i)\n",
        "        x = torch.cat([ue, ie], dim=1)\n",
        "        out = self.mlp(x).squeeze(1)\n",
        "        return out"
      ]
    },
    {
      "cell_type": "code",
      "execution_count": 8,
      "metadata": {
        "colab": {
          "base_uri": "https://localhost:8080/"
        },
        "id": "4A11HtEXOgwd",
        "outputId": "fe4de3c6-d85e-41d1-9104-0b44e23f6b21"
      },
      "outputs": [
        {
          "output_type": "stream",
          "name": "stdout",
          "text": [
            "Device: cpu\n"
          ]
        }
      ],
      "source": [
        "DEVICE = torch.device('cuda' if torch.cuda.is_available() else 'cpu')\n",
        "print('Device:', DEVICE)\n",
        "\n",
        "RUN_NAME = time.strftime('run_%Y%m%d_%H%M%S')\n",
        "WRITER = SummaryWriter(log_dir=os.path.join(RUNS_DIR, RUN_NAME))\n",
        "\n",
        "@torch.no_grad()\n",
        "def evaluate_explicit(model, loader, clip_range=None):\n",
        "    model.eval(); model.to(DEVICE)\n",
        "    preds, reals = [], []\n",
        "    for u,i,r in loader:\n",
        "        u = u.to(DEVICE); i = i.to(DEVICE); r = r.to(DEVICE)\n",
        "        y = model(u,i)\n",
        "        y = y.detach().cpu().numpy()\n",
        "        if clip_range is not None:\n",
        "            y = np.clip(y, clip_range[0], clip_range[1])\n",
        "        preds.append(y)\n",
        "        reals.append(r.detach().cpu().numpy())\n",
        "    preds = np.concatenate(preds); reals = np.concatenate(reals)\n",
        "    rmse = math.sqrt(mean_squared_error(reals, preds))\n",
        "    mae = mean_absolute_error(reals, preds)\n",
        "    return rmse, mae\n",
        "\n",
        "\n",
        "def train_explicit(model, train_loader, val_loader=None, epochs=5, lr=5e-3, wd=1e-5, clip=5.0, patience=2, clip_range=None, tag='model'):\n",
        "    model.to(DEVICE)\n",
        "    opt = torch.optim.AdamW(model.parameters(), lr=lr, weight_decay=wd)\n",
        "    best_val = float('inf')\n",
        "    best_path = os.path.join(MODEL_DIR, f\"best_{model.__class__.__name__}.pt\")\n",
        "    wait = 0\n",
        "    for ep in range(1, epochs+1):\n",
        "        model.train()\n",
        "        running = 0.0; steps = 0\n",
        "        pbar = tqdm(train_loader, desc=f\"[Train {model.__class__.__name__}] Epoch {ep}/{epochs}\")\n",
        "        for u,i,r in pbar:\n",
        "            u = u.to(DEVICE); i = i.to(DEVICE); r = r.to(DEVICE)\n",
        "            y = model(u,i)\n",
        "            loss = nn.functional.mse_loss(y, r)\n",
        "            opt.zero_grad(); loss.backward()\n",
        "            nn.utils.clip_grad_norm_(model.parameters(), clip)\n",
        "            opt.step()\n",
        "            running += float(loss.detach().cpu()); steps += 1\n",
        "            pbar.set_postfix({'mse': float(loss.detach().cpu())})\n",
        "        train_mse = running / max(1, steps)\n",
        "        WRITER.add_scalar(f'{tag}/train_mse', train_mse, ep)\n",
        "\n",
        "        # --- Robust check untuk val_loader (mendukung LimitedLoader tanpa .dataset) ---\n",
        "        has_val = val_loader is not None\n",
        "        if has_val:\n",
        "            try:\n",
        "                has_val = len(val_loader) > 0\n",
        "            except Exception:\n",
        "                # jika tidak bisa di-len, tetap coba validasi\n",
        "                has_val = True\n",
        "\n",
        "        if has_val:\n",
        "            val_rmse, val_mae = evaluate_explicit(model, val_loader, clip_range)\n",
        "            WRITER.add_scalar(f'{tag}/val_rmse', val_rmse, ep)\n",
        "            WRITER.add_scalar(f'{tag}/val_mae', val_mae, ep)\n",
        "            print(f\"Epoch {ep}: Val RMSE={val_rmse:.4f} | Val MAE={val_mae:.4f}\")\n",
        "            if val_rmse < best_val:\n",
        "                best_val = val_rmse\n",
        "                torch.save({'model_state_dict': model.state_dict(), 'val_rmse': val_rmse, 'val_mae': val_mae}, best_path)\n",
        "                print('  Saved(best):', best_path)\n",
        "                wait = 0\n",
        "            else:\n",
        "                wait += 1\n",
        "                if wait >= patience:\n",
        "                    print('  Early stopping!')\n",
        "                    break\n",
        "        else:\n",
        "            torch.save({'model_state_dict': model.state_dict()}, best_path)\n",
        "    return best_path"
      ]
    },
    {
      "cell_type": "code",
      "execution_count": 9,
      "metadata": {
        "colab": {
          "base_uri": "https://localhost:8080/"
        },
        "id": "aaK2fD_vOsuO",
        "outputId": "af26251d-57d3-4862-cbc1-9a3dd12f979c"
      },
      "outputs": [
        {
          "output_type": "stream",
          "name": "stdout",
          "text": [
            "== HPO Grid: MF ==\n"
          ]
        },
        {
          "output_type": "stream",
          "name": "stderr",
          "text": [
            "[Train MF] Epoch 1/2: 100%|██████████| 400/400 [00:54<00:00,  7.37it/s, mse=6.61]\n"
          ]
        },
        {
          "output_type": "stream",
          "name": "stdout",
          "text": [
            "Epoch 1: Val RMSE=3.0739 | Val MAE=2.8718\n",
            "  Saved(best): /content/drive/MyDrive/Penelitian/uas/models/best_MF.pt\n"
          ]
        },
        {
          "output_type": "stream",
          "name": "stderr",
          "text": [
            "[Train MF] Epoch 2/2: 100%|██████████| 400/400 [00:51<00:00,  7.77it/s, mse=2.08]\n"
          ]
        },
        {
          "output_type": "stream",
          "name": "stdout",
          "text": [
            "Epoch 2: Val RMSE=2.1456 | Val MAE=1.8384\n",
            "  Saved(best): /content/drive/MyDrive/Penelitian/uas/models/best_MF.pt\n",
            "MF emb=32 lr=0.001 wd=1e-06 -> Val RMSE=2.1456\n"
          ]
        },
        {
          "output_type": "stream",
          "name": "stderr",
          "text": [
            "[Train MF] Epoch 1/2: 100%|██████████| 400/400 [00:55<00:00,  7.15it/s, mse=6.5]\n"
          ]
        },
        {
          "output_type": "stream",
          "name": "stdout",
          "text": [
            "Epoch 1: Val RMSE=3.0728 | Val MAE=2.8709\n",
            "  Saved(best): /content/drive/MyDrive/Penelitian/uas/models/best_MF.pt\n"
          ]
        },
        {
          "output_type": "stream",
          "name": "stderr",
          "text": [
            "[Train MF] Epoch 2/2: 100%|██████████| 400/400 [00:54<00:00,  7.29it/s, mse=2.13]\n"
          ]
        },
        {
          "output_type": "stream",
          "name": "stdout",
          "text": [
            "Epoch 2: Val RMSE=2.1445 | Val MAE=1.8372\n",
            "  Saved(best): /content/drive/MyDrive/Penelitian/uas/models/best_MF.pt\n",
            "MF emb=32 lr=0.001 wd=1e-05 -> Val RMSE=2.1445\n"
          ]
        },
        {
          "output_type": "stream",
          "name": "stderr",
          "text": [
            "[Train MF] Epoch 1/2: 100%|██████████| 400/400 [00:58<00:00,  6.79it/s, mse=6.62]\n"
          ]
        },
        {
          "output_type": "stream",
          "name": "stdout",
          "text": [
            "Epoch 1: Val RMSE=3.0779 | Val MAE=2.8765\n",
            "  Saved(best): /content/drive/MyDrive/Penelitian/uas/models/best_MF.pt\n"
          ]
        },
        {
          "output_type": "stream",
          "name": "stderr",
          "text": [
            "[Train MF] Epoch 2/2: 100%|██████████| 400/400 [00:52<00:00,  7.58it/s, mse=2.14]\n"
          ]
        },
        {
          "output_type": "stream",
          "name": "stdout",
          "text": [
            "Epoch 2: Val RMSE=2.1462 | Val MAE=1.8397\n",
            "  Saved(best): /content/drive/MyDrive/Penelitian/uas/models/best_MF.pt\n",
            "MF emb=32 lr=0.001 wd=0.0001 -> Val RMSE=2.1462\n"
          ]
        },
        {
          "output_type": "stream",
          "name": "stderr",
          "text": [
            "[Train MF] Epoch 1/2: 100%|██████████| 400/400 [00:57<00:00,  6.90it/s, mse=1.31]\n"
          ]
        },
        {
          "output_type": "stream",
          "name": "stdout",
          "text": [
            "Epoch 1: Val RMSE=1.5880 | Val MAE=1.2462\n",
            "  Saved(best): /content/drive/MyDrive/Penelitian/uas/models/best_MF.pt\n"
          ]
        },
        {
          "output_type": "stream",
          "name": "stderr",
          "text": [
            "[Train MF] Epoch 2/2: 100%|██████████| 400/400 [00:55<00:00,  7.25it/s, mse=0.91]\n"
          ]
        },
        {
          "output_type": "stream",
          "name": "stdout",
          "text": [
            "Epoch 2: Val RMSE=1.1634 | Val MAE=0.8955\n",
            "  Saved(best): /content/drive/MyDrive/Penelitian/uas/models/best_MF.pt\n",
            "MF emb=32 lr=0.005 wd=1e-06 -> Val RMSE=1.1634\n"
          ]
        },
        {
          "output_type": "stream",
          "name": "stderr",
          "text": [
            "[Train MF] Epoch 1/2: 100%|██████████| 400/400 [00:57<00:00,  7.02it/s, mse=1.31]\n"
          ]
        },
        {
          "output_type": "stream",
          "name": "stdout",
          "text": [
            "Epoch 1: Val RMSE=1.5854 | Val MAE=1.2427\n",
            "  Saved(best): /content/drive/MyDrive/Penelitian/uas/models/best_MF.pt\n"
          ]
        },
        {
          "output_type": "stream",
          "name": "stderr",
          "text": [
            "[Train MF] Epoch 2/2: 100%|██████████| 400/400 [00:53<00:00,  7.42it/s, mse=0.955]\n"
          ]
        },
        {
          "output_type": "stream",
          "name": "stdout",
          "text": [
            "Epoch 2: Val RMSE=1.1627 | Val MAE=0.8949\n",
            "  Saved(best): /content/drive/MyDrive/Penelitian/uas/models/best_MF.pt\n",
            "MF emb=32 lr=0.005 wd=1e-05 -> Val RMSE=1.1627\n"
          ]
        },
        {
          "output_type": "stream",
          "name": "stderr",
          "text": [
            "[Train MF] Epoch 1/2: 100%|██████████| 400/400 [00:56<00:00,  7.14it/s, mse=1.3]\n"
          ]
        },
        {
          "output_type": "stream",
          "name": "stdout",
          "text": [
            "Epoch 1: Val RMSE=1.5868 | Val MAE=1.2448\n",
            "  Saved(best): /content/drive/MyDrive/Penelitian/uas/models/best_MF.pt\n"
          ]
        },
        {
          "output_type": "stream",
          "name": "stderr",
          "text": [
            "[Train MF] Epoch 2/2: 100%|██████████| 400/400 [00:52<00:00,  7.55it/s, mse=0.975]\n"
          ]
        },
        {
          "output_type": "stream",
          "name": "stdout",
          "text": [
            "Epoch 2: Val RMSE=1.1631 | Val MAE=0.8947\n",
            "  Saved(best): /content/drive/MyDrive/Penelitian/uas/models/best_MF.pt\n",
            "MF emb=32 lr=0.005 wd=0.0001 -> Val RMSE=1.1631\n"
          ]
        },
        {
          "output_type": "stream",
          "name": "stderr",
          "text": [
            "[Train MF] Epoch 1/2: 100%|██████████| 400/400 [01:27<00:00,  4.60it/s, mse=4.53]\n"
          ]
        },
        {
          "output_type": "stream",
          "name": "stdout",
          "text": [
            "Epoch 1: Val RMSE=2.8482 | Val MAE=2.6087\n",
            "  Saved(best): /content/drive/MyDrive/Penelitian/uas/models/best_MF.pt\n"
          ]
        },
        {
          "output_type": "stream",
          "name": "stderr",
          "text": [
            "[Train MF] Epoch 2/2: 100%|██████████| 400/400 [01:28<00:00,  4.50it/s, mse=1.66]\n"
          ]
        },
        {
          "output_type": "stream",
          "name": "stdout",
          "text": [
            "Epoch 2: Val RMSE=1.8851 | Val MAE=1.5585\n",
            "  Saved(best): /content/drive/MyDrive/Penelitian/uas/models/best_MF.pt\n",
            "MF emb=64 lr=0.001 wd=1e-06 -> Val RMSE=1.8851\n"
          ]
        },
        {
          "output_type": "stream",
          "name": "stderr",
          "text": [
            "[Train MF] Epoch 1/2: 100%|██████████| 400/400 [01:33<00:00,  4.29it/s, mse=4.44]\n"
          ]
        },
        {
          "output_type": "stream",
          "name": "stdout",
          "text": [
            "Epoch 1: Val RMSE=2.8256 | Val MAE=2.5818\n",
            "  Saved(best): /content/drive/MyDrive/Penelitian/uas/models/best_MF.pt\n"
          ]
        },
        {
          "output_type": "stream",
          "name": "stderr",
          "text": [
            "[Train MF] Epoch 2/2: 100%|██████████| 400/400 [01:21<00:00,  4.92it/s, mse=1.56]\n"
          ]
        },
        {
          "output_type": "stream",
          "name": "stdout",
          "text": [
            "Epoch 2: Val RMSE=1.8770 | Val MAE=1.5511\n",
            "  Saved(best): /content/drive/MyDrive/Penelitian/uas/models/best_MF.pt\n",
            "MF emb=64 lr=0.001 wd=1e-05 -> Val RMSE=1.8770\n"
          ]
        },
        {
          "output_type": "stream",
          "name": "stderr",
          "text": [
            "[Train MF] Epoch 1/2: 100%|██████████| 400/400 [01:32<00:00,  4.35it/s, mse=4.7]\n"
          ]
        },
        {
          "output_type": "stream",
          "name": "stdout",
          "text": [
            "Epoch 1: Val RMSE=2.8371 | Val MAE=2.5956\n",
            "  Saved(best): /content/drive/MyDrive/Penelitian/uas/models/best_MF.pt\n"
          ]
        },
        {
          "output_type": "stream",
          "name": "stderr",
          "text": [
            "[Train MF] Epoch 2/2: 100%|██████████| 400/400 [01:21<00:00,  4.93it/s, mse=1.61]\n"
          ]
        },
        {
          "output_type": "stream",
          "name": "stdout",
          "text": [
            "Epoch 2: Val RMSE=1.8815 | Val MAE=1.5556\n",
            "  Saved(best): /content/drive/MyDrive/Penelitian/uas/models/best_MF.pt\n",
            "MF emb=64 lr=0.001 wd=0.0001 -> Val RMSE=1.8815\n"
          ]
        },
        {
          "output_type": "stream",
          "name": "stderr",
          "text": [
            "[Train MF] Epoch 1/2: 100%|██████████| 400/400 [01:30<00:00,  4.43it/s, mse=1.23]\n"
          ]
        },
        {
          "output_type": "stream",
          "name": "stdout",
          "text": [
            "Epoch 1: Val RMSE=1.4951 | Val MAE=1.1494\n",
            "  Saved(best): /content/drive/MyDrive/Penelitian/uas/models/best_MF.pt\n"
          ]
        },
        {
          "output_type": "stream",
          "name": "stderr",
          "text": [
            "[Train MF] Epoch 2/2: 100%|██████████| 400/400 [01:29<00:00,  4.46it/s, mse=0.908]\n"
          ]
        },
        {
          "output_type": "stream",
          "name": "stdout",
          "text": [
            "Epoch 2: Val RMSE=1.1497 | Val MAE=0.8815\n",
            "  Saved(best): /content/drive/MyDrive/Penelitian/uas/models/best_MF.pt\n",
            "MF emb=64 lr=0.005 wd=1e-06 -> Val RMSE=1.1497\n"
          ]
        },
        {
          "output_type": "stream",
          "name": "stderr",
          "text": [
            "[Train MF] Epoch 1/2: 100%|██████████| 400/400 [01:26<00:00,  4.60it/s, mse=1.31]\n"
          ]
        },
        {
          "output_type": "stream",
          "name": "stdout",
          "text": [
            "Epoch 1: Val RMSE=1.5026 | Val MAE=1.1548\n",
            "  Saved(best): /content/drive/MyDrive/Penelitian/uas/models/best_MF.pt\n"
          ]
        },
        {
          "output_type": "stream",
          "name": "stderr",
          "text": [
            "[Train MF] Epoch 2/2: 100%|██████████| 400/400 [01:24<00:00,  4.75it/s, mse=0.917]\n"
          ]
        },
        {
          "output_type": "stream",
          "name": "stdout",
          "text": [
            "Epoch 2: Val RMSE=1.1471 | Val MAE=0.8807\n",
            "  Saved(best): /content/drive/MyDrive/Penelitian/uas/models/best_MF.pt\n",
            "MF emb=64 lr=0.005 wd=1e-05 -> Val RMSE=1.1471\n"
          ]
        },
        {
          "output_type": "stream",
          "name": "stderr",
          "text": [
            "[Train MF] Epoch 1/2: 100%|██████████| 400/400 [01:26<00:00,  4.61it/s, mse=1.13]\n"
          ]
        },
        {
          "output_type": "stream",
          "name": "stdout",
          "text": [
            "Epoch 1: Val RMSE=1.4957 | Val MAE=1.1491\n",
            "  Saved(best): /content/drive/MyDrive/Penelitian/uas/models/best_MF.pt\n"
          ]
        },
        {
          "output_type": "stream",
          "name": "stderr",
          "text": [
            "[Train MF] Epoch 2/2: 100%|██████████| 400/400 [01:22<00:00,  4.86it/s, mse=0.945]\n"
          ]
        },
        {
          "output_type": "stream",
          "name": "stdout",
          "text": [
            "Epoch 2: Val RMSE=1.1464 | Val MAE=0.8802\n",
            "  Saved(best): /content/drive/MyDrive/Penelitian/uas/models/best_MF.pt\n",
            "MF emb=64 lr=0.005 wd=0.0001 -> Val RMSE=1.1464\n"
          ]
        },
        {
          "output_type": "stream",
          "name": "stderr",
          "text": [
            "[Train MF] Epoch 1/2: 100%|██████████| 400/400 [02:16<00:00,  2.92it/s, mse=3.26]\n"
          ]
        },
        {
          "output_type": "stream",
          "name": "stdout",
          "text": [
            "Epoch 1: Val RMSE=2.5557 | Val MAE=2.2608\n",
            "  Saved(best): /content/drive/MyDrive/Penelitian/uas/models/best_MF.pt\n"
          ]
        },
        {
          "output_type": "stream",
          "name": "stderr",
          "text": [
            "[Train MF] Epoch 2/2: 100%|██████████| 400/400 [02:19<00:00,  2.87it/s, mse=1.29]\n"
          ]
        },
        {
          "output_type": "stream",
          "name": "stdout",
          "text": [
            "Epoch 2: Val RMSE=1.6410 | Val MAE=1.3114\n",
            "  Saved(best): /content/drive/MyDrive/Penelitian/uas/models/best_MF.pt\n",
            "MF emb=128 lr=0.001 wd=1e-06 -> Val RMSE=1.6410\n"
          ]
        },
        {
          "output_type": "stream",
          "name": "stderr",
          "text": [
            "[Train MF] Epoch 1/2: 100%|██████████| 400/400 [02:13<00:00,  3.00it/s, mse=3.13]\n"
          ]
        },
        {
          "output_type": "stream",
          "name": "stdout",
          "text": [
            "Epoch 1: Val RMSE=2.5419 | Val MAE=2.2453\n",
            "  Saved(best): /content/drive/MyDrive/Penelitian/uas/models/best_MF.pt\n"
          ]
        },
        {
          "output_type": "stream",
          "name": "stderr",
          "text": [
            "[Train MF] Epoch 2/2: 100%|██████████| 400/400 [02:06<00:00,  3.15it/s, mse=1.39]\n"
          ]
        },
        {
          "output_type": "stream",
          "name": "stdout",
          "text": [
            "Epoch 2: Val RMSE=1.6391 | Val MAE=1.3108\n",
            "  Saved(best): /content/drive/MyDrive/Penelitian/uas/models/best_MF.pt\n",
            "MF emb=128 lr=0.001 wd=1e-05 -> Val RMSE=1.6391\n"
          ]
        },
        {
          "output_type": "stream",
          "name": "stderr",
          "text": [
            "[Train MF] Epoch 1/2: 100%|██████████| 400/400 [02:09<00:00,  3.09it/s, mse=3.23]\n"
          ]
        },
        {
          "output_type": "stream",
          "name": "stdout",
          "text": [
            "Epoch 1: Val RMSE=2.5305 | Val MAE=2.2318\n",
            "  Saved(best): /content/drive/MyDrive/Penelitian/uas/models/best_MF.pt\n"
          ]
        },
        {
          "output_type": "stream",
          "name": "stderr",
          "text": [
            "[Train MF] Epoch 2/2: 100%|██████████| 400/400 [01:56<00:00,  3.44it/s, mse=1.33]\n"
          ]
        },
        {
          "output_type": "stream",
          "name": "stdout",
          "text": [
            "Epoch 2: Val RMSE=1.6338 | Val MAE=1.3058\n",
            "  Saved(best): /content/drive/MyDrive/Penelitian/uas/models/best_MF.pt\n",
            "MF emb=128 lr=0.001 wd=0.0001 -> Val RMSE=1.6338\n"
          ]
        },
        {
          "output_type": "stream",
          "name": "stderr",
          "text": [
            "[Train MF] Epoch 1/2: 100%|██████████| 400/400 [02:27<00:00,  2.71it/s, mse=1.18]\n"
          ]
        },
        {
          "output_type": "stream",
          "name": "stdout",
          "text": [
            "Epoch 1: Val RMSE=1.4439 | Val MAE=1.0972\n",
            "  Saved(best): /content/drive/MyDrive/Penelitian/uas/models/best_MF.pt\n"
          ]
        },
        {
          "output_type": "stream",
          "name": "stderr",
          "text": [
            "[Train MF] Epoch 2/2: 100%|██████████| 400/400 [02:13<00:00,  3.00it/s, mse=0.953]\n"
          ]
        },
        {
          "output_type": "stream",
          "name": "stdout",
          "text": [
            "Epoch 2: Val RMSE=1.1511 | Val MAE=0.8839\n",
            "  Saved(best): /content/drive/MyDrive/Penelitian/uas/models/best_MF.pt\n",
            "MF emb=128 lr=0.005 wd=1e-06 -> Val RMSE=1.1511\n"
          ]
        },
        {
          "output_type": "stream",
          "name": "stderr",
          "text": [
            "[Train MF] Epoch 1/2: 100%|██████████| 400/400 [02:22<00:00,  2.81it/s, mse=1.22]\n"
          ]
        },
        {
          "output_type": "stream",
          "name": "stdout",
          "text": [
            "Epoch 1: Val RMSE=1.4452 | Val MAE=1.0971\n",
            "  Saved(best): /content/drive/MyDrive/Penelitian/uas/models/best_MF.pt\n"
          ]
        },
        {
          "output_type": "stream",
          "name": "stderr",
          "text": [
            "[Train MF] Epoch 2/2: 100%|██████████| 400/400 [02:13<00:00,  3.00it/s, mse=0.928]\n"
          ]
        },
        {
          "output_type": "stream",
          "name": "stdout",
          "text": [
            "Epoch 2: Val RMSE=1.1470 | Val MAE=0.8782\n",
            "  Saved(best): /content/drive/MyDrive/Penelitian/uas/models/best_MF.pt\n",
            "MF emb=128 lr=0.005 wd=1e-05 -> Val RMSE=1.1470\n"
          ]
        },
        {
          "output_type": "stream",
          "name": "stderr",
          "text": [
            "[Train MF] Epoch 1/2: 100%|██████████| 400/400 [02:30<00:00,  2.66it/s, mse=1.17]\n"
          ]
        },
        {
          "output_type": "stream",
          "name": "stdout",
          "text": [
            "Epoch 1: Val RMSE=1.4553 | Val MAE=1.1047\n",
            "  Saved(best): /content/drive/MyDrive/Penelitian/uas/models/best_MF.pt\n"
          ]
        },
        {
          "output_type": "stream",
          "name": "stderr",
          "text": [
            "[Train MF] Epoch 2/2: 100%|██████████| 400/400 [02:06<00:00,  3.15it/s, mse=0.909]\n"
          ]
        },
        {
          "output_type": "stream",
          "name": "stdout",
          "text": [
            "Epoch 2: Val RMSE=1.1429 | Val MAE=0.8767\n",
            "  Saved(best): /content/drive/MyDrive/Penelitian/uas/models/best_MF.pt\n",
            "MF emb=128 lr=0.005 wd=0.0001 -> Val RMSE=1.1429\n",
            "Best MF cfg: {'emb_dim': 128, 'lr': 0.005, 'wd': 0.0001}\n",
            "== HPO Grid: NCF ==\n"
          ]
        },
        {
          "output_type": "stream",
          "name": "stderr",
          "text": [
            "[Train NCF] Epoch 1/2: 100%|██████████| 400/400 [01:01<00:00,  6.48it/s, mse=0.9]\n"
          ]
        },
        {
          "output_type": "stream",
          "name": "stdout",
          "text": [
            "Epoch 1: Val RMSE=0.9670 | Val MAE=0.7569\n",
            "  Saved(best): /content/drive/MyDrive/Penelitian/uas/models/best_NCF.pt\n"
          ]
        },
        {
          "output_type": "stream",
          "name": "stderr",
          "text": [
            "[Train NCF] Epoch 2/2: 100%|██████████| 400/400 [00:57<00:00,  6.93it/s, mse=0.864]\n"
          ]
        },
        {
          "output_type": "stream",
          "name": "stdout",
          "text": [
            "Epoch 2: Val RMSE=0.9501 | Val MAE=0.7419\n",
            "  Saved(best): /content/drive/MyDrive/Penelitian/uas/models/best_NCF.pt\n",
            "NCF emb=32 dims=(128, 64) dp=0.2 lr=0.003 wd=1e-06 -> Val RMSE=0.9501\n"
          ]
        },
        {
          "output_type": "stream",
          "name": "stderr",
          "text": [
            "[Train NCF] Epoch 1/2: 100%|██████████| 400/400 [00:59<00:00,  6.72it/s, mse=0.919]\n"
          ]
        },
        {
          "output_type": "stream",
          "name": "stdout",
          "text": [
            "Epoch 1: Val RMSE=0.9653 | Val MAE=0.7537\n",
            "  Saved(best): /content/drive/MyDrive/Penelitian/uas/models/best_NCF.pt\n"
          ]
        },
        {
          "output_type": "stream",
          "name": "stderr",
          "text": [
            "[Train NCF] Epoch 2/2: 100%|██████████| 400/400 [00:57<00:00,  6.94it/s, mse=0.837]\n"
          ]
        },
        {
          "output_type": "stream",
          "name": "stdout",
          "text": [
            "Epoch 2: Val RMSE=0.9423 | Val MAE=0.7282\n",
            "  Saved(best): /content/drive/MyDrive/Penelitian/uas/models/best_NCF.pt\n",
            "NCF emb=32 dims=(128, 64) dp=0.2 lr=0.003 wd=1e-05 -> Val RMSE=0.9423\n"
          ]
        },
        {
          "output_type": "stream",
          "name": "stderr",
          "text": [
            "[Train NCF] Epoch 1/2: 100%|██████████| 400/400 [01:00<00:00,  6.62it/s, mse=0.888]\n"
          ]
        },
        {
          "output_type": "stream",
          "name": "stdout",
          "text": [
            "Epoch 1: Val RMSE=0.9592 | Val MAE=0.7478\n",
            "  Saved(best): /content/drive/MyDrive/Penelitian/uas/models/best_NCF.pt\n"
          ]
        },
        {
          "output_type": "stream",
          "name": "stderr",
          "text": [
            "[Train NCF] Epoch 2/2: 100%|██████████| 400/400 [00:57<00:00,  6.92it/s, mse=0.844]\n"
          ]
        },
        {
          "output_type": "stream",
          "name": "stdout",
          "text": [
            "Epoch 2: Val RMSE=0.9429 | Val MAE=0.7283\n",
            "  Saved(best): /content/drive/MyDrive/Penelitian/uas/models/best_NCF.pt\n",
            "NCF emb=32 dims=(128, 64) dp=0.2 lr=0.005 wd=1e-06 -> Val RMSE=0.9429\n"
          ]
        },
        {
          "output_type": "stream",
          "name": "stderr",
          "text": [
            "[Train NCF] Epoch 1/2: 100%|██████████| 400/400 [01:01<00:00,  6.50it/s, mse=0.894]\n"
          ]
        },
        {
          "output_type": "stream",
          "name": "stdout",
          "text": [
            "Epoch 1: Val RMSE=0.9588 | Val MAE=0.7417\n",
            "  Saved(best): /content/drive/MyDrive/Penelitian/uas/models/best_NCF.pt\n"
          ]
        },
        {
          "output_type": "stream",
          "name": "stderr",
          "text": [
            "[Train NCF] Epoch 2/2: 100%|██████████| 400/400 [00:57<00:00,  6.92it/s, mse=0.855]\n"
          ]
        },
        {
          "output_type": "stream",
          "name": "stdout",
          "text": [
            "Epoch 2: Val RMSE=0.9419 | Val MAE=0.7290\n",
            "  Saved(best): /content/drive/MyDrive/Penelitian/uas/models/best_NCF.pt\n",
            "NCF emb=32 dims=(128, 64) dp=0.2 lr=0.005 wd=1e-05 -> Val RMSE=0.9419\n"
          ]
        },
        {
          "output_type": "stream",
          "name": "stderr",
          "text": [
            "[Train NCF] Epoch 1/2: 100%|██████████| 400/400 [01:00<00:00,  6.59it/s, mse=0.925]\n"
          ]
        },
        {
          "output_type": "stream",
          "name": "stdout",
          "text": [
            "Epoch 1: Val RMSE=0.9669 | Val MAE=0.7558\n",
            "  Saved(best): /content/drive/MyDrive/Penelitian/uas/models/best_NCF.pt\n"
          ]
        },
        {
          "output_type": "stream",
          "name": "stderr",
          "text": [
            "[Train NCF] Epoch 2/2: 100%|██████████| 400/400 [01:04<00:00,  6.21it/s, mse=0.871]\n"
          ]
        },
        {
          "output_type": "stream",
          "name": "stdout",
          "text": [
            "Epoch 2: Val RMSE=0.9508 | Val MAE=0.7421\n",
            "  Saved(best): /content/drive/MyDrive/Penelitian/uas/models/best_NCF.pt\n",
            "NCF emb=32 dims=(128, 64) dp=0.3 lr=0.003 wd=1e-06 -> Val RMSE=0.9508\n"
          ]
        },
        {
          "output_type": "stream",
          "name": "stderr",
          "text": [
            "[Train NCF] Epoch 1/2: 100%|██████████| 400/400 [01:02<00:00,  6.43it/s, mse=0.883]\n"
          ]
        },
        {
          "output_type": "stream",
          "name": "stdout",
          "text": [
            "Epoch 1: Val RMSE=0.9654 | Val MAE=0.7541\n",
            "  Saved(best): /content/drive/MyDrive/Penelitian/uas/models/best_NCF.pt\n"
          ]
        },
        {
          "output_type": "stream",
          "name": "stderr",
          "text": [
            "[Train NCF] Epoch 2/2: 100%|██████████| 400/400 [00:58<00:00,  6.85it/s, mse=0.851]\n"
          ]
        },
        {
          "output_type": "stream",
          "name": "stdout",
          "text": [
            "Epoch 2: Val RMSE=0.9438 | Val MAE=0.7332\n",
            "  Saved(best): /content/drive/MyDrive/Penelitian/uas/models/best_NCF.pt\n",
            "NCF emb=32 dims=(128, 64) dp=0.3 lr=0.003 wd=1e-05 -> Val RMSE=0.9438\n"
          ]
        },
        {
          "output_type": "stream",
          "name": "stderr",
          "text": [
            "[Train NCF] Epoch 1/2: 100%|██████████| 400/400 [00:59<00:00,  6.70it/s, mse=0.983]\n"
          ]
        },
        {
          "output_type": "stream",
          "name": "stdout",
          "text": [
            "Epoch 1: Val RMSE=0.9711 | Val MAE=0.7622\n",
            "  Saved(best): /content/drive/MyDrive/Penelitian/uas/models/best_NCF.pt\n"
          ]
        },
        {
          "output_type": "stream",
          "name": "stderr",
          "text": [
            "[Train NCF] Epoch 2/2: 100%|██████████| 400/400 [00:58<00:00,  6.80it/s, mse=0.905]\n"
          ]
        },
        {
          "output_type": "stream",
          "name": "stdout",
          "text": [
            "Epoch 2: Val RMSE=0.9436 | Val MAE=0.7329\n",
            "  Saved(best): /content/drive/MyDrive/Penelitian/uas/models/best_NCF.pt\n",
            "NCF emb=32 dims=(128, 64) dp=0.3 lr=0.005 wd=1e-06 -> Val RMSE=0.9436\n"
          ]
        },
        {
          "output_type": "stream",
          "name": "stderr",
          "text": [
            "[Train NCF] Epoch 1/2: 100%|██████████| 400/400 [01:09<00:00,  5.79it/s, mse=0.943]\n"
          ]
        },
        {
          "output_type": "stream",
          "name": "stdout",
          "text": [
            "Epoch 1: Val RMSE=0.9712 | Val MAE=0.7639\n",
            "  Saved(best): /content/drive/MyDrive/Penelitian/uas/models/best_NCF.pt\n"
          ]
        },
        {
          "output_type": "stream",
          "name": "stderr",
          "text": [
            "[Train NCF] Epoch 2/2: 100%|██████████| 400/400 [01:06<00:00,  6.01it/s, mse=0.913]\n"
          ]
        },
        {
          "output_type": "stream",
          "name": "stdout",
          "text": [
            "Epoch 2: Val RMSE=0.9508 | Val MAE=0.7426\n",
            "  Saved(best): /content/drive/MyDrive/Penelitian/uas/models/best_NCF.pt\n",
            "NCF emb=32 dims=(128, 64) dp=0.3 lr=0.005 wd=1e-05 -> Val RMSE=0.9508\n"
          ]
        },
        {
          "output_type": "stream",
          "name": "stderr",
          "text": [
            "[Train NCF] Epoch 1/2: 100%|██████████| 400/400 [01:22<00:00,  4.84it/s, mse=0.88]\n"
          ]
        },
        {
          "output_type": "stream",
          "name": "stdout",
          "text": [
            "Epoch 1: Val RMSE=0.9671 | Val MAE=0.7550\n",
            "  Saved(best): /content/drive/MyDrive/Penelitian/uas/models/best_NCF.pt\n"
          ]
        },
        {
          "output_type": "stream",
          "name": "stderr",
          "text": [
            "[Train NCF] Epoch 2/2: 100%|██████████| 400/400 [01:17<00:00,  5.15it/s, mse=0.851]\n"
          ]
        },
        {
          "output_type": "stream",
          "name": "stdout",
          "text": [
            "Epoch 2: Val RMSE=0.9458 | Val MAE=0.7405\n",
            "  Saved(best): /content/drive/MyDrive/Penelitian/uas/models/best_NCF.pt\n",
            "NCF emb=32 dims=(256, 128, 64) dp=0.2 lr=0.003 wd=1e-06 -> Val RMSE=0.9458\n"
          ]
        },
        {
          "output_type": "stream",
          "name": "stderr",
          "text": [
            "[Train NCF] Epoch 1/2: 100%|██████████| 400/400 [01:10<00:00,  5.68it/s, mse=0.94]\n"
          ]
        },
        {
          "output_type": "stream",
          "name": "stdout",
          "text": [
            "Epoch 1: Val RMSE=0.9630 | Val MAE=0.7516\n",
            "  Saved(best): /content/drive/MyDrive/Penelitian/uas/models/best_NCF.pt\n"
          ]
        },
        {
          "output_type": "stream",
          "name": "stderr",
          "text": [
            "[Train NCF] Epoch 2/2: 100%|██████████| 400/400 [01:07<00:00,  5.94it/s, mse=0.901]\n"
          ]
        },
        {
          "output_type": "stream",
          "name": "stdout",
          "text": [
            "Epoch 2: Val RMSE=0.9419 | Val MAE=0.7335\n",
            "  Saved(best): /content/drive/MyDrive/Penelitian/uas/models/best_NCF.pt\n",
            "NCF emb=32 dims=(256, 128, 64) dp=0.2 lr=0.003 wd=1e-05 -> Val RMSE=0.9419\n"
          ]
        },
        {
          "output_type": "stream",
          "name": "stderr",
          "text": [
            "[Train NCF] Epoch 1/2: 100%|██████████| 400/400 [01:12<00:00,  5.49it/s, mse=0.9]\n"
          ]
        },
        {
          "output_type": "stream",
          "name": "stdout",
          "text": [
            "Epoch 1: Val RMSE=0.9632 | Val MAE=0.7537\n",
            "  Saved(best): /content/drive/MyDrive/Penelitian/uas/models/best_NCF.pt\n"
          ]
        },
        {
          "output_type": "stream",
          "name": "stderr",
          "text": [
            "[Train NCF] Epoch 2/2: 100%|██████████| 400/400 [01:07<00:00,  5.89it/s, mse=0.842]\n"
          ]
        },
        {
          "output_type": "stream",
          "name": "stdout",
          "text": [
            "Epoch 2: Val RMSE=0.9398 | Val MAE=0.7267\n",
            "  Saved(best): /content/drive/MyDrive/Penelitian/uas/models/best_NCF.pt\n",
            "NCF emb=32 dims=(256, 128, 64) dp=0.2 lr=0.005 wd=1e-06 -> Val RMSE=0.9398\n"
          ]
        },
        {
          "output_type": "stream",
          "name": "stderr",
          "text": [
            "[Train NCF] Epoch 1/2: 100%|██████████| 400/400 [01:12<00:00,  5.50it/s, mse=0.88]\n"
          ]
        },
        {
          "output_type": "stream",
          "name": "stdout",
          "text": [
            "Epoch 1: Val RMSE=0.9656 | Val MAE=0.7582\n",
            "  Saved(best): /content/drive/MyDrive/Penelitian/uas/models/best_NCF.pt\n"
          ]
        },
        {
          "output_type": "stream",
          "name": "stderr",
          "text": [
            "[Train NCF] Epoch 2/2: 100%|██████████| 400/400 [01:08<00:00,  5.86it/s, mse=0.838]\n"
          ]
        },
        {
          "output_type": "stream",
          "name": "stdout",
          "text": [
            "Epoch 2: Val RMSE=0.9427 | Val MAE=0.7303\n",
            "  Saved(best): /content/drive/MyDrive/Penelitian/uas/models/best_NCF.pt\n",
            "NCF emb=32 dims=(256, 128, 64) dp=0.2 lr=0.005 wd=1e-05 -> Val RMSE=0.9427\n"
          ]
        },
        {
          "output_type": "stream",
          "name": "stderr",
          "text": [
            "[Train NCF] Epoch 1/2: 100%|██████████| 400/400 [01:11<00:00,  5.57it/s, mse=0.973]\n"
          ]
        },
        {
          "output_type": "stream",
          "name": "stdout",
          "text": [
            "Epoch 1: Val RMSE=0.9706 | Val MAE=0.7644\n",
            "  Saved(best): /content/drive/MyDrive/Penelitian/uas/models/best_NCF.pt\n"
          ]
        },
        {
          "output_type": "stream",
          "name": "stderr",
          "text": [
            "[Train NCF] Epoch 2/2: 100%|██████████| 400/400 [01:09<00:00,  5.80it/s, mse=0.916]\n"
          ]
        },
        {
          "output_type": "stream",
          "name": "stdout",
          "text": [
            "Epoch 2: Val RMSE=0.9446 | Val MAE=0.7367\n",
            "  Saved(best): /content/drive/MyDrive/Penelitian/uas/models/best_NCF.pt\n",
            "NCF emb=32 dims=(256, 128, 64) dp=0.3 lr=0.003 wd=1e-06 -> Val RMSE=0.9446\n"
          ]
        },
        {
          "output_type": "stream",
          "name": "stderr",
          "text": [
            "[Train NCF] Epoch 1/2: 100%|██████████| 400/400 [01:11<00:00,  5.58it/s, mse=0.988]\n"
          ]
        },
        {
          "output_type": "stream",
          "name": "stdout",
          "text": [
            "Epoch 1: Val RMSE=0.9691 | Val MAE=0.7601\n",
            "  Saved(best): /content/drive/MyDrive/Penelitian/uas/models/best_NCF.pt\n"
          ]
        },
        {
          "output_type": "stream",
          "name": "stderr",
          "text": [
            "[Train NCF] Epoch 2/2: 100%|██████████| 400/400 [01:08<00:00,  5.86it/s, mse=0.915]\n"
          ]
        },
        {
          "output_type": "stream",
          "name": "stdout",
          "text": [
            "Epoch 2: Val RMSE=0.9473 | Val MAE=0.7390\n",
            "  Saved(best): /content/drive/MyDrive/Penelitian/uas/models/best_NCF.pt\n",
            "NCF emb=32 dims=(256, 128, 64) dp=0.3 lr=0.003 wd=1e-05 -> Val RMSE=0.9473\n"
          ]
        },
        {
          "output_type": "stream",
          "name": "stderr",
          "text": [
            "[Train NCF] Epoch 1/2: 100%|██████████| 400/400 [01:10<00:00,  5.69it/s, mse=0.968]\n"
          ]
        },
        {
          "output_type": "stream",
          "name": "stdout",
          "text": [
            "Epoch 1: Val RMSE=0.9637 | Val MAE=0.7547\n",
            "  Saved(best): /content/drive/MyDrive/Penelitian/uas/models/best_NCF.pt\n"
          ]
        },
        {
          "output_type": "stream",
          "name": "stderr",
          "text": [
            "[Train NCF] Epoch 2/2: 100%|██████████| 400/400 [01:07<00:00,  5.89it/s, mse=0.885]\n"
          ]
        },
        {
          "output_type": "stream",
          "name": "stdout",
          "text": [
            "Epoch 2: Val RMSE=0.9477 | Val MAE=0.7376\n",
            "  Saved(best): /content/drive/MyDrive/Penelitian/uas/models/best_NCF.pt\n",
            "NCF emb=32 dims=(256, 128, 64) dp=0.3 lr=0.005 wd=1e-06 -> Val RMSE=0.9477\n"
          ]
        },
        {
          "output_type": "stream",
          "name": "stderr",
          "text": [
            "[Train NCF] Epoch 1/2: 100%|██████████| 400/400 [01:10<00:00,  5.67it/s, mse=0.953]\n"
          ]
        },
        {
          "output_type": "stream",
          "name": "stdout",
          "text": [
            "Epoch 1: Val RMSE=0.9655 | Val MAE=0.7539\n",
            "  Saved(best): /content/drive/MyDrive/Penelitian/uas/models/best_NCF.pt\n"
          ]
        },
        {
          "output_type": "stream",
          "name": "stderr",
          "text": [
            "[Train NCF] Epoch 2/2: 100%|██████████| 400/400 [01:08<00:00,  5.84it/s, mse=0.852]\n"
          ]
        },
        {
          "output_type": "stream",
          "name": "stdout",
          "text": [
            "Epoch 2: Val RMSE=0.9449 | Val MAE=0.7365\n",
            "  Saved(best): /content/drive/MyDrive/Penelitian/uas/models/best_NCF.pt\n",
            "NCF emb=32 dims=(256, 128, 64) dp=0.3 lr=0.005 wd=1e-05 -> Val RMSE=0.9449\n"
          ]
        },
        {
          "output_type": "stream",
          "name": "stderr",
          "text": [
            "[Train NCF] Epoch 1/2: 100%|██████████| 400/400 [01:32<00:00,  4.32it/s, mse=0.912]\n"
          ]
        },
        {
          "output_type": "stream",
          "name": "stdout",
          "text": [
            "Epoch 1: Val RMSE=0.9653 | Val MAE=0.7543\n",
            "  Saved(best): /content/drive/MyDrive/Penelitian/uas/models/best_NCF.pt\n"
          ]
        },
        {
          "output_type": "stream",
          "name": "stderr",
          "text": [
            "[Train NCF] Epoch 2/2: 100%|██████████| 400/400 [01:25<00:00,  4.65it/s, mse=0.877]\n"
          ]
        },
        {
          "output_type": "stream",
          "name": "stdout",
          "text": [
            "Epoch 2: Val RMSE=0.9472 | Val MAE=0.7398\n",
            "  Saved(best): /content/drive/MyDrive/Penelitian/uas/models/best_NCF.pt\n",
            "NCF emb=64 dims=(128, 64) dp=0.2 lr=0.003 wd=1e-06 -> Val RMSE=0.9472\n"
          ]
        },
        {
          "output_type": "stream",
          "name": "stderr",
          "text": [
            "[Train NCF] Epoch 1/2: 100%|██████████| 400/400 [01:31<00:00,  4.35it/s, mse=0.95]\n"
          ]
        },
        {
          "output_type": "stream",
          "name": "stdout",
          "text": [
            "Epoch 1: Val RMSE=0.9710 | Val MAE=0.7615\n",
            "  Saved(best): /content/drive/MyDrive/Penelitian/uas/models/best_NCF.pt\n"
          ]
        },
        {
          "output_type": "stream",
          "name": "stderr",
          "text": [
            "[Train NCF] Epoch 2/2: 100%|██████████| 400/400 [01:26<00:00,  4.63it/s, mse=0.889]\n"
          ]
        },
        {
          "output_type": "stream",
          "name": "stdout",
          "text": [
            "Epoch 2: Val RMSE=0.9480 | Val MAE=0.7374\n",
            "  Saved(best): /content/drive/MyDrive/Penelitian/uas/models/best_NCF.pt\n",
            "NCF emb=64 dims=(128, 64) dp=0.2 lr=0.003 wd=1e-05 -> Val RMSE=0.9480\n"
          ]
        },
        {
          "output_type": "stream",
          "name": "stderr",
          "text": [
            "[Train NCF] Epoch 1/2: 100%|██████████| 400/400 [01:37<00:00,  4.11it/s, mse=0.903]\n"
          ]
        },
        {
          "output_type": "stream",
          "name": "stdout",
          "text": [
            "Epoch 1: Val RMSE=0.9702 | Val MAE=0.7598\n",
            "  Saved(best): /content/drive/MyDrive/Penelitian/uas/models/best_NCF.pt\n"
          ]
        },
        {
          "output_type": "stream",
          "name": "stderr",
          "text": [
            "[Train NCF] Epoch 2/2: 100%|██████████| 400/400 [01:32<00:00,  4.32it/s, mse=0.858]\n"
          ]
        },
        {
          "output_type": "stream",
          "name": "stdout",
          "text": [
            "Epoch 2: Val RMSE=0.9437 | Val MAE=0.7317\n",
            "  Saved(best): /content/drive/MyDrive/Penelitian/uas/models/best_NCF.pt\n",
            "NCF emb=64 dims=(128, 64) dp=0.2 lr=0.005 wd=1e-06 -> Val RMSE=0.9437\n"
          ]
        },
        {
          "output_type": "stream",
          "name": "stderr",
          "text": [
            "[Train NCF] Epoch 1/2: 100%|██████████| 400/400 [01:39<00:00,  4.03it/s, mse=0.929]\n"
          ]
        },
        {
          "output_type": "stream",
          "name": "stdout",
          "text": [
            "Epoch 1: Val RMSE=0.9675 | Val MAE=0.7568\n",
            "  Saved(best): /content/drive/MyDrive/Penelitian/uas/models/best_NCF.pt\n"
          ]
        },
        {
          "output_type": "stream",
          "name": "stderr",
          "text": [
            "[Train NCF] Epoch 2/2: 100%|██████████| 400/400 [01:33<00:00,  4.26it/s, mse=0.849]\n"
          ]
        },
        {
          "output_type": "stream",
          "name": "stdout",
          "text": [
            "Epoch 2: Val RMSE=0.9407 | Val MAE=0.7314\n",
            "  Saved(best): /content/drive/MyDrive/Penelitian/uas/models/best_NCF.pt\n",
            "NCF emb=64 dims=(128, 64) dp=0.2 lr=0.005 wd=1e-05 -> Val RMSE=0.9407\n"
          ]
        },
        {
          "output_type": "stream",
          "name": "stderr",
          "text": [
            "[Train NCF] Epoch 1/2: 100%|██████████| 400/400 [01:40<00:00,  3.98it/s, mse=0.992]\n"
          ]
        },
        {
          "output_type": "stream",
          "name": "stdout",
          "text": [
            "Epoch 1: Val RMSE=0.9733 | Val MAE=0.7656\n",
            "  Saved(best): /content/drive/MyDrive/Penelitian/uas/models/best_NCF.pt\n"
          ]
        },
        {
          "output_type": "stream",
          "name": "stderr",
          "text": [
            "[Train NCF] Epoch 2/2: 100%|██████████| 400/400 [01:33<00:00,  4.27it/s, mse=0.951]\n"
          ]
        },
        {
          "output_type": "stream",
          "name": "stdout",
          "text": [
            "Epoch 2: Val RMSE=0.9518 | Val MAE=0.7420\n",
            "  Saved(best): /content/drive/MyDrive/Penelitian/uas/models/best_NCF.pt\n",
            "NCF emb=64 dims=(128, 64) dp=0.3 lr=0.003 wd=1e-06 -> Val RMSE=0.9518\n"
          ]
        },
        {
          "output_type": "stream",
          "name": "stderr",
          "text": [
            "[Train NCF] Epoch 1/2: 100%|██████████| 400/400 [01:33<00:00,  4.29it/s, mse=1.04]\n"
          ]
        },
        {
          "output_type": "stream",
          "name": "stdout",
          "text": [
            "Epoch 1: Val RMSE=0.9694 | Val MAE=0.7609\n",
            "  Saved(best): /content/drive/MyDrive/Penelitian/uas/models/best_NCF.pt\n"
          ]
        },
        {
          "output_type": "stream",
          "name": "stderr",
          "text": [
            "[Train NCF] Epoch 2/2: 100%|██████████| 400/400 [01:13<00:00,  5.45it/s, mse=0.926]\n"
          ]
        },
        {
          "output_type": "stream",
          "name": "stdout",
          "text": [
            "Epoch 2: Val RMSE=0.9463 | Val MAE=0.7339\n",
            "  Saved(best): /content/drive/MyDrive/Penelitian/uas/models/best_NCF.pt\n",
            "NCF emb=64 dims=(128, 64) dp=0.3 lr=0.003 wd=1e-05 -> Val RMSE=0.9463\n"
          ]
        },
        {
          "output_type": "stream",
          "name": "stderr",
          "text": [
            "[Train NCF] Epoch 1/2: 100%|██████████| 400/400 [01:34<00:00,  4.25it/s, mse=0.956]\n"
          ]
        },
        {
          "output_type": "stream",
          "name": "stdout",
          "text": [
            "Epoch 1: Val RMSE=0.9685 | Val MAE=0.7587\n",
            "  Saved(best): /content/drive/MyDrive/Penelitian/uas/models/best_NCF.pt\n"
          ]
        },
        {
          "output_type": "stream",
          "name": "stderr",
          "text": [
            "[Train NCF] Epoch 2/2: 100%|██████████| 400/400 [01:27<00:00,  4.55it/s, mse=0.902]\n"
          ]
        },
        {
          "output_type": "stream",
          "name": "stdout",
          "text": [
            "Epoch 2: Val RMSE=0.9485 | Val MAE=0.7382\n",
            "  Saved(best): /content/drive/MyDrive/Penelitian/uas/models/best_NCF.pt\n",
            "NCF emb=64 dims=(128, 64) dp=0.3 lr=0.005 wd=1e-06 -> Val RMSE=0.9485\n"
          ]
        },
        {
          "output_type": "stream",
          "name": "stderr",
          "text": [
            "[Train NCF] Epoch 1/2: 100%|██████████| 400/400 [01:34<00:00,  4.24it/s, mse=0.992]\n"
          ]
        },
        {
          "output_type": "stream",
          "name": "stdout",
          "text": [
            "Epoch 1: Val RMSE=0.9695 | Val MAE=0.7618\n",
            "  Saved(best): /content/drive/MyDrive/Penelitian/uas/models/best_NCF.pt\n"
          ]
        },
        {
          "output_type": "stream",
          "name": "stderr",
          "text": [
            "[Train NCF] Epoch 2/2: 100%|██████████| 400/400 [01:26<00:00,  4.61it/s, mse=0.894]\n"
          ]
        },
        {
          "output_type": "stream",
          "name": "stdout",
          "text": [
            "Epoch 2: Val RMSE=0.9524 | Val MAE=0.7479\n",
            "  Saved(best): /content/drive/MyDrive/Penelitian/uas/models/best_NCF.pt\n",
            "NCF emb=64 dims=(128, 64) dp=0.3 lr=0.005 wd=1e-05 -> Val RMSE=0.9524\n"
          ]
        },
        {
          "output_type": "stream",
          "name": "stderr",
          "text": [
            "[Train NCF] Epoch 1/2: 100%|██████████| 400/400 [01:52<00:00,  3.56it/s, mse=0.948]\n"
          ]
        },
        {
          "output_type": "stream",
          "name": "stdout",
          "text": [
            "Epoch 1: Val RMSE=0.9768 | Val MAE=0.7688\n",
            "  Saved(best): /content/drive/MyDrive/Penelitian/uas/models/best_NCF.pt\n"
          ]
        },
        {
          "output_type": "stream",
          "name": "stderr",
          "text": [
            "[Train NCF] Epoch 2/2: 100%|██████████| 400/400 [01:43<00:00,  3.85it/s, mse=0.905]\n"
          ]
        },
        {
          "output_type": "stream",
          "name": "stdout",
          "text": [
            "Epoch 2: Val RMSE=0.9455 | Val MAE=0.7368\n",
            "  Saved(best): /content/drive/MyDrive/Penelitian/uas/models/best_NCF.pt\n",
            "NCF emb=64 dims=(256, 128, 64) dp=0.2 lr=0.003 wd=1e-06 -> Val RMSE=0.9455\n"
          ]
        },
        {
          "output_type": "stream",
          "name": "stderr",
          "text": [
            "[Train NCF] Epoch 1/2: 100%|██████████| 400/400 [01:39<00:00,  4.03it/s, mse=0.894]\n"
          ]
        },
        {
          "output_type": "stream",
          "name": "stdout",
          "text": [
            "Epoch 1: Val RMSE=0.9645 | Val MAE=0.7520\n",
            "  Saved(best): /content/drive/MyDrive/Penelitian/uas/models/best_NCF.pt\n"
          ]
        },
        {
          "output_type": "stream",
          "name": "stderr",
          "text": [
            "[Train NCF] Epoch 2/2: 100%|██████████| 400/400 [01:32<00:00,  4.31it/s, mse=0.807]\n"
          ]
        },
        {
          "output_type": "stream",
          "name": "stdout",
          "text": [
            "Epoch 2: Val RMSE=0.9442 | Val MAE=0.7367\n",
            "  Saved(best): /content/drive/MyDrive/Penelitian/uas/models/best_NCF.pt\n",
            "NCF emb=64 dims=(256, 128, 64) dp=0.2 lr=0.003 wd=1e-05 -> Val RMSE=0.9442\n"
          ]
        },
        {
          "output_type": "stream",
          "name": "stderr",
          "text": [
            "[Train NCF] Epoch 1/2: 100%|██████████| 400/400 [01:37<00:00,  4.08it/s, mse=0.885]\n"
          ]
        },
        {
          "output_type": "stream",
          "name": "stdout",
          "text": [
            "Epoch 1: Val RMSE=0.9580 | Val MAE=0.7413\n",
            "  Saved(best): /content/drive/MyDrive/Penelitian/uas/models/best_NCF.pt\n"
          ]
        },
        {
          "output_type": "stream",
          "name": "stderr",
          "text": [
            "[Train NCF] Epoch 2/2: 100%|██████████| 400/400 [01:33<00:00,  4.29it/s, mse=0.843]\n"
          ]
        },
        {
          "output_type": "stream",
          "name": "stdout",
          "text": [
            "Epoch 2: Val RMSE=0.9388 | Val MAE=0.7221\n",
            "  Saved(best): /content/drive/MyDrive/Penelitian/uas/models/best_NCF.pt\n",
            "NCF emb=64 dims=(256, 128, 64) dp=0.2 lr=0.005 wd=1e-06 -> Val RMSE=0.9388\n"
          ]
        },
        {
          "output_type": "stream",
          "name": "stderr",
          "text": [
            "[Train NCF] Epoch 1/2: 100%|██████████| 400/400 [01:53<00:00,  3.53it/s, mse=0.962]\n"
          ]
        },
        {
          "output_type": "stream",
          "name": "stdout",
          "text": [
            "Epoch 1: Val RMSE=0.9659 | Val MAE=0.7587\n",
            "  Saved(best): /content/drive/MyDrive/Penelitian/uas/models/best_NCF.pt\n"
          ]
        },
        {
          "output_type": "stream",
          "name": "stderr",
          "text": [
            "[Train NCF] Epoch 2/2: 100%|██████████| 400/400 [01:45<00:00,  3.80it/s, mse=0.868]\n"
          ]
        },
        {
          "output_type": "stream",
          "name": "stdout",
          "text": [
            "Epoch 2: Val RMSE=0.9411 | Val MAE=0.7209\n",
            "  Saved(best): /content/drive/MyDrive/Penelitian/uas/models/best_NCF.pt\n",
            "NCF emb=64 dims=(256, 128, 64) dp=0.2 lr=0.005 wd=1e-05 -> Val RMSE=0.9411\n"
          ]
        },
        {
          "output_type": "stream",
          "name": "stderr",
          "text": [
            "[Train NCF] Epoch 1/2: 100%|██████████| 400/400 [01:52<00:00,  3.57it/s, mse=1.01]\n"
          ]
        },
        {
          "output_type": "stream",
          "name": "stdout",
          "text": [
            "Epoch 1: Val RMSE=0.9743 | Val MAE=0.7666\n",
            "  Saved(best): /content/drive/MyDrive/Penelitian/uas/models/best_NCF.pt\n"
          ]
        },
        {
          "output_type": "stream",
          "name": "stderr",
          "text": [
            "[Train NCF] Epoch 2/2: 100%|██████████| 400/400 [01:46<00:00,  3.74it/s, mse=0.943]\n"
          ]
        },
        {
          "output_type": "stream",
          "name": "stdout",
          "text": [
            "Epoch 2: Val RMSE=0.9486 | Val MAE=0.7389\n",
            "  Saved(best): /content/drive/MyDrive/Penelitian/uas/models/best_NCF.pt\n",
            "NCF emb=64 dims=(256, 128, 64) dp=0.3 lr=0.003 wd=1e-06 -> Val RMSE=0.9486\n"
          ]
        },
        {
          "output_type": "stream",
          "name": "stderr",
          "text": [
            "[Train NCF] Epoch 1/2: 100%|██████████| 400/400 [01:51<00:00,  3.59it/s, mse=0.971]\n"
          ]
        },
        {
          "output_type": "stream",
          "name": "stdout",
          "text": [
            "Epoch 1: Val RMSE=0.9683 | Val MAE=0.7578\n",
            "  Saved(best): /content/drive/MyDrive/Penelitian/uas/models/best_NCF.pt\n"
          ]
        },
        {
          "output_type": "stream",
          "name": "stderr",
          "text": [
            "[Train NCF] Epoch 2/2: 100%|██████████| 400/400 [01:45<00:00,  3.79it/s, mse=0.957]\n"
          ]
        },
        {
          "output_type": "stream",
          "name": "stdout",
          "text": [
            "Epoch 2: Val RMSE=0.9430 | Val MAE=0.7288\n",
            "  Saved(best): /content/drive/MyDrive/Penelitian/uas/models/best_NCF.pt\n",
            "NCF emb=64 dims=(256, 128, 64) dp=0.3 lr=0.003 wd=1e-05 -> Val RMSE=0.9430\n"
          ]
        },
        {
          "output_type": "stream",
          "name": "stderr",
          "text": [
            "[Train NCF] Epoch 1/2: 100%|██████████| 400/400 [01:50<00:00,  3.63it/s, mse=0.957]\n"
          ]
        },
        {
          "output_type": "stream",
          "name": "stdout",
          "text": [
            "Epoch 1: Val RMSE=0.9573 | Val MAE=0.7428\n",
            "  Saved(best): /content/drive/MyDrive/Penelitian/uas/models/best_NCF.pt\n"
          ]
        },
        {
          "output_type": "stream",
          "name": "stderr",
          "text": [
            "[Train NCF] Epoch 2/2: 100%|██████████| 400/400 [01:38<00:00,  4.05it/s, mse=0.841]\n"
          ]
        },
        {
          "output_type": "stream",
          "name": "stdout",
          "text": [
            "Epoch 2: Val RMSE=0.9422 | Val MAE=0.7280\n",
            "  Saved(best): /content/drive/MyDrive/Penelitian/uas/models/best_NCF.pt\n",
            "NCF emb=64 dims=(256, 128, 64) dp=0.3 lr=0.005 wd=1e-06 -> Val RMSE=0.9422\n"
          ]
        },
        {
          "output_type": "stream",
          "name": "stderr",
          "text": [
            "[Train NCF] Epoch 1/2: 100%|██████████| 400/400 [01:51<00:00,  3.58it/s, mse=0.943]\n"
          ]
        },
        {
          "output_type": "stream",
          "name": "stdout",
          "text": [
            "Epoch 1: Val RMSE=0.9698 | Val MAE=0.7584\n",
            "  Saved(best): /content/drive/MyDrive/Penelitian/uas/models/best_NCF.pt\n"
          ]
        },
        {
          "output_type": "stream",
          "name": "stderr",
          "text": [
            "[Train NCF] Epoch 2/2: 100%|██████████| 400/400 [01:45<00:00,  3.79it/s, mse=0.807]\n"
          ]
        },
        {
          "output_type": "stream",
          "name": "stdout",
          "text": [
            "Epoch 2: Val RMSE=0.9409 | Val MAE=0.7290\n",
            "  Saved(best): /content/drive/MyDrive/Penelitian/uas/models/best_NCF.pt\n",
            "NCF emb=64 dims=(256, 128, 64) dp=0.3 lr=0.005 wd=1e-05 -> Val RMSE=0.9409\n",
            "Best NCF cfg: {'emb_dim': 64, 'mlp_dims': (256, 128, 64), 'dropout': 0.2, 'lr': 0.005, 'wd': 1e-06}\n"
          ]
        }
      ],
      "source": [
        "HPO_USE_GRID = True\n",
        "HPO_USE_OPTUNA = False  # set True jika ingin Optuna (lebih berat)\n",
        "HPO_EPOCHS = 2          # epoch singkat untuk seleksi HP\n",
        "HPO_SUBSET_STEPS = 400  # batasi batch/steps per epoch saat HPO (None untuk penuh)\n",
        "\n",
        "# DataLoader terbatas langkah saat HPO\n",
        "class LimitedLoader:\n",
        "    \"\"\"Wrapper DataLoader dengan batas langkah; kompatibel dengan len() dan .dataset.\n",
        "    \"\"\"\n",
        "    def __init__(self, loader, max_steps=None):\n",
        "        self.loader = loader\n",
        "        self.max_steps = max_steps\n",
        "    def __iter__(self):\n",
        "        for s, batch in enumerate(self.loader):\n",
        "            if self.max_steps is not None and s >= self.max_steps:\n",
        "                break\n",
        "            yield batch\n",
        "    def __len__(self):\n",
        "        if self.max_steps is None:\n",
        "            try:\n",
        "                return len(self.loader)\n",
        "            except Exception:\n",
        "                return 0\n",
        "        return min(self.max_steps, len(self.loader))\n",
        "    # agar kompatibel dengan kode yang memanggil val_loader.dataset\n",
        "    @property\n",
        "    def dataset(self):\n",
        "        return self\n",
        "\n",
        "MF_GRID = {\n",
        "    'emb_dim': [32, 64, 128],\n",
        "    'lr': [1e-3, 5e-3],\n",
        "    'wd': [1e-6, 1e-5, 1e-4],\n",
        "}\n",
        "\n",
        "# ------- Grid untuk NCF -------\n",
        "NCF_GRID = {\n",
        "    'emb_dim': [32, 64],\n",
        "    'mlp_dims': [(128,64), (256,128,64)],\n",
        "    'dropout': [0.2, 0.3],\n",
        "    'lr': [3e-3, 5e-3],\n",
        "    'wd': [1e-6, 1e-5],\n",
        "}\n",
        "\n",
        "best_cfg = {}\n",
        "\n",
        "if HPO_USE_GRID:\n",
        "    print(\"== HPO Grid: MF ==\")\n",
        "    best_val = float('inf'); best = None\n",
        "    for emb in MF_GRID['emb_dim']:\n",
        "        for lr in MF_GRID['lr']:\n",
        "            for wd in MF_GRID['wd']:\n",
        "                model = MF(n_users, n_items, emb_dim=emb, bias=True)\n",
        "                tag = f\"HPO_MF/emb{emb}_lr{lr}_wd{wd}\"\n",
        "                tr_loader = LimitedLoader(train_loader, HPO_SUBSET_STEPS)\n",
        "                vl_loader = LimitedLoader(val_loader, HPO_SUBSET_STEPS) if val_loader is not None else None\n",
        "                path = train_explicit(model, tr_loader, vl_loader, epochs=HPO_EPOCHS, lr=lr, wd=wd, patience=1, clip_range=(R_MIN, R_MAX), tag=tag)\n",
        "                ckpt = torch.load(path, map_location='cpu')\n",
        "                model.load_state_dict(ckpt['model_state_dict'])\n",
        "                if vl_loader is not None:\n",
        "                    vrmse, _ = evaluate_explicit(model.to(DEVICE), val_loader, (R_MIN, R_MAX))\n",
        "                else:\n",
        "                    vrmse, _ = evaluate_explicit(model.to(DEVICE), test_loader, (R_MIN, R_MAX))\n",
        "                print(f\"MF emb={emb} lr={lr} wd={wd} -> Val RMSE={vrmse:.4f}\")\n",
        "                if vrmse < best_val:\n",
        "                    best_val = vrmse; best = {'emb_dim': emb, 'lr': lr, 'wd': wd}\n",
        "    best_cfg['MF'] = best\n",
        "    print('Best MF cfg:', best_cfg['MF'])\n",
        "\n",
        "    print(\"== HPO Grid: NCF ==\")\n",
        "    best_val = float('inf'); best = None\n",
        "    for emb in NCF_GRID['emb_dim']:\n",
        "        for dims in NCF_GRID['mlp_dims']:\n",
        "            for dp in NCF_GRID['dropout']:\n",
        "                for lr in NCF_GRID['lr']:\n",
        "                    for wd in NCF_GRID['wd']:\n",
        "                        model = NCF(n_users, n_items, emb_dim=emb, mlp_dims=dims, dropout=dp)\n",
        "                        tag = f\"HPO_NCF/emb{emb}_dims{'-'.join(map(str,dims))}_dp{dp}_lr{lr}_wd{wd}\"\n",
        "                        tr_loader = LimitedLoader(train_loader, HPO_SUBSET_STEPS)\n",
        "                        vl_loader = LimitedLoader(val_loader, HPO_SUBSET_STEPS) if val_loader is not None else None\n",
        "                        path = train_explicit(model, tr_loader, vl_loader, epochs=HPO_EPOCHS, lr=lr, wd=wd, patience=1, clip_range=(R_MIN, R_MAX), tag=tag)\n",
        "                        ckpt = torch.load(path, map_location='cpu')\n",
        "                        model.load_state_dict(ckpt['model_state_dict'])\n",
        "                        if vl_loader is not None:\n",
        "                            vrmse, _ = evaluate_explicit(model.to(DEVICE), val_loader, (R_MIN, R_MAX))\n",
        "                        else:\n",
        "                            vrmse, _ = evaluate_explicit(model.to(DEVICE), test_loader, (R_MIN, R_MAX))\n",
        "                        print(f\"NCF emb={emb} dims={dims} dp={dp} lr={lr} wd={wd} -> Val RMSE={vrmse:.4f}\")\n",
        "                        if vrmse < best_val:\n",
        "                            best_val = vrmse; best = {'emb_dim': emb, 'mlp_dims': dims, 'dropout': dp, 'lr': lr, 'wd': wd}\n",
        "    best_cfg['NCF'] = best\n",
        "    print('Best NCF cfg:', best_cfg['NCF'])"
      ]
    },
    {
      "cell_type": "code",
      "execution_count": 10,
      "metadata": {
        "colab": {
          "base_uri": "https://localhost:8080/"
        },
        "id": "8H7oC7qiO7I7",
        "outputId": "f67f8e71-08a0-42ae-aaec-ce6e9244c920"
      },
      "outputs": [
        {
          "metadata": {
            "tags": null
          },
          "name": "stdout",
          "output_type": "stream",
          "text": [
            "Final MF: {'emb_dim': 128, 'lr': 0.005, 'wd': 0.0001}\n"
          ]
        },
        {
          "metadata": {
            "tags": null
          },
          "name": "stderr",
          "output_type": "stream",
          "text": [
            "[Train MF] Epoch 1/4: 100%|██████████| 4816/4816 [26:34<00:00,  3.02it/s, mse=0.768]\n"
          ]
        },
        {
          "metadata": {
            "tags": null
          },
          "name": "stdout",
          "output_type": "stream",
          "text": [
            "Epoch 1: Val RMSE=0.9619 | Val MAE=0.7384\n",
            "  Saved(best): /content/drive/MyDrive/Penelitian/uas/models/best_MF.pt\n"
          ]
        },
        {
          "metadata": {
            "tags": null
          },
          "name": "stderr",
          "output_type": "stream",
          "text": [
            "[Train MF] Epoch 2/4: 100%|██████████| 4816/4816 [25:17<00:00,  3.17it/s, mse=0.73]\n"
          ]
        },
        {
          "metadata": {
            "tags": null
          },
          "name": "stdout",
          "output_type": "stream",
          "text": [
            "Epoch 2: Val RMSE=0.9671 | Val MAE=0.7390\n"
          ]
        },
        {
          "metadata": {
            "tags": null
          },
          "name": "stderr",
          "output_type": "stream",
          "text": [
            "[Train MF] Epoch 3/4: 100%|██████████| 4816/4816 [24:59<00:00,  3.21it/s, mse=0.642]\n"
          ]
        },
        {
          "metadata": {
            "tags": null
          },
          "name": "stdout",
          "output_type": "stream",
          "text": [
            "Epoch 3: Val RMSE=0.9834 | Val MAE=0.7500\n",
            "  Early stopping!\n",
            "[MF] Test RMSE=0.9870 | Test MAE=0.7582\n",
            "Saved: /content/drive/MyDrive/Penelitian/uas/models/final_MF.pt\n",
            "Final NCF: {'emb_dim': 64, 'mlp_dims': (256, 128, 64), 'dropout': 0.2, 'lr': 0.005, 'wd': 1e-06}\n"
          ]
        },
        {
          "output_type": "stream",
          "name": "stderr",
          "text": [
            "[Train NCF] Epoch 1/4: 100%|██████████| 4816/4816 [20:04<00:00,  4.00it/s, mse=0.698]\n"
          ]
        },
        {
          "output_type": "stream",
          "name": "stdout",
          "text": [
            "Epoch 1: Val RMSE=0.8897 | Val MAE=0.6860\n",
            "  Saved(best): /content/drive/MyDrive/Penelitian/uas/models/best_NCF.pt\n"
          ]
        },
        {
          "output_type": "stream",
          "name": "stderr",
          "text": [
            "[Train NCF] Epoch 2/4: 100%|██████████| 4816/4816 [19:36<00:00,  4.09it/s, mse=0.727]\n"
          ]
        },
        {
          "output_type": "stream",
          "name": "stdout",
          "text": [
            "Epoch 2: Val RMSE=0.8737 | Val MAE=0.6735\n",
            "  Saved(best): /content/drive/MyDrive/Penelitian/uas/models/best_NCF.pt\n"
          ]
        },
        {
          "output_type": "stream",
          "name": "stderr",
          "text": [
            "[Train NCF] Epoch 3/4: 100%|██████████| 4816/4816 [19:45<00:00,  4.06it/s, mse=0.649]\n"
          ]
        },
        {
          "output_type": "stream",
          "name": "stdout",
          "text": [
            "Epoch 3: Val RMSE=0.8650 | Val MAE=0.6630\n",
            "  Saved(best): /content/drive/MyDrive/Penelitian/uas/models/best_NCF.pt\n"
          ]
        },
        {
          "output_type": "stream",
          "name": "stderr",
          "text": [
            "[Train NCF] Epoch 4/4: 100%|██████████| 4816/4816 [19:06<00:00,  4.20it/s, mse=0.563]\n"
          ]
        },
        {
          "output_type": "stream",
          "name": "stdout",
          "text": [
            "Epoch 4: Val RMSE=0.8583 | Val MAE=0.6529\n",
            "  Saved(best): /content/drive/MyDrive/Penelitian/uas/models/best_NCF.pt\n",
            "[NCF] Test RMSE=0.8759 | Test MAE=0.6682\n",
            "Saved: /content/drive/MyDrive/Penelitian/uas/models/final_NCF.pt\n"
          ]
        }
      ],
      "source": [
        "ncf_params = best_cfg.get('NCF', {'emb_dim':64, 'mlp_dims':(256,128,64), 'dropout':0.3, 'lr':5e-3, 'wd':1e-5})\n",
        "\n",
        "with open(os.path.join(MODEL_DIR, 'best_hparams.json'), 'w') as f:\n",
        "    json.dump({'MF': mf_params, 'NCF': ncf_params}, f, indent=2)\n",
        "\n",
        "MF_EPOCHS  = 4\n",
        "NCF_EPOCHS = 4\n",
        "\n",
        "mf = MF(n_users, n_items, emb_dim=mf_params['emb_dim'], bias=True)\n",
        "print('Final MF:', mf_params)\n",
        "\n",
        "best_mf_path = train_explicit(mf, train_loader, val_loader, epochs=MF_EPOCHS, lr=mf_params['lr'], wd=mf_params['wd'], clip=5.0, patience=2, clip_range=(R_MIN, R_MAX), tag='MF_final')\n",
        "ckpt = torch.load(best_mf_path, map_location='cpu')\n",
        "mf.load_state_dict(ckpt['model_state_dict'])\n",
        "rmse_test_mf, mae_test_mf = evaluate_explicit(mf.to(DEVICE), test_loader, clip_range=(R_MIN, R_MAX))\n",
        "print(f\"[MF] Test RMSE={rmse_test_mf:.4f} | Test MAE={mae_test_mf:.4f}\")\n",
        "final_mf_path = os.path.join(MODEL_DIR, 'final_MF.pt')\n",
        "torch.save({'model_state_dict': mf.state_dict(), 'test_rmse': rmse_test_mf, 'test_mae': mae_test_mf, 'hparams': mf_params}, final_mf_path)\n",
        "print('Saved:', final_mf_path)\n",
        "\n",
        "ncf = NCF(n_users, n_items, emb_dim=ncf_params['emb_dim'], mlp_dims=tuple(ncf_params['mlp_dims']), dropout=ncf_params['dropout'])\n",
        "print('Final NCF:', ncf_params)\n",
        "\n",
        "best_ncf_path = train_explicit(ncf, train_loader, val_loader, epochs=NCF_EPOCHS, lr=ncf_params['lr'], wd=ncf_params['wd'], clip=5.0, patience=2, clip_range=(R_MIN, R_MAX), tag='NCF_final')\n",
        "ckpt = torch.load(best_ncf_path, map_location='cpu')\n",
        "ncf.load_state_dict(ckpt['model_state_dict'])\n",
        "rmse_test_ncf, mae_test_ncf = evaluate_explicit(ncf.to(DEVICE), test_loader, clip_range=(R_MIN, R_MAX))\n",
        "print(f\"[NCF] Test RMSE={rmse_test_ncf:.4f} | Test MAE={mae_test_ncf:.4f}\")\n",
        "final_ncf_path = os.path.join(MODEL_DIR, 'final_NCF.pt')\n",
        "torch.save({'model_state_dict': ncf.state_dict(), 'test_rmse': rmse_test_ncf, 'test_mae': mae_test_ncf, 'hparams': ncf_params}, final_ncf_path)\n",
        "print('Saved:', final_ncf_path)\n",
        "\n",
        "WRITER.close()\n"
      ]
    },
    {
      "cell_type": "code",
      "execution_count": 11,
      "metadata": {
        "colab": {
          "base_uri": "https://localhost:8080/"
        },
        "id": "rhBLBjKeO-Ru",
        "outputId": "e695d808-75ec-41b1-c7e3-fabac28a9d08"
      },
      "outputs": [
        {
          "output_type": "stream",
          "name": "stderr",
          "text": [
            "NegSampling: 100%|██████████| 138238/138238 [02:20<00:00, 982.68it/s] \n",
            "[Implicit NCF] Epoch 1/3: 100%|██████████| 6004/6004 [38:42<00:00,  2.59it/s, bce=0.145]\n",
            "[Implicit NCF] Epoch 2/3: 100%|██████████| 6004/6004 [38:15<00:00,  2.62it/s, bce=0.121]\n",
            "[Implicit NCF] Epoch 3/3: 100%|██████████| 6004/6004 [38:29<00:00,  2.60it/s, bce=0.115]\n",
            "Metrics@10: 100%|██████████| 138238/138238 [4:25:24<00:00,  8.68it/s]\n"
          ]
        },
        {
          "output_type": "stream",
          "name": "stdout",
          "text": [
            "[Implicit NCF] Recall@10=0.4324 | NDCG@10=0.4482\n"
          ]
        }
      ],
      "source": [
        "USE_IMPLICIT = True\n",
        "POS_THRESHOLD = 4.0\n",
        "NEG_PER_POS = 4\n",
        "K_METRIC = 10\n",
        "\n",
        "class ImplicitDataset(Dataset):\n",
        "    def __init__(self, df_train_all, n_items, pos_threshold=4.0, neg_per_pos=4):\n",
        "        self.n_items = n_items\n",
        "        pos = df_train_all[df_train_all['rating'] >= pos_threshold]\n",
        "        self.user_pos = pos.groupby('u')['i'].apply(set).to_dict()\n",
        "        rows_u, rows_i, rows_y = [], [], []\n",
        "        for u, items in tqdm(self.user_pos.items(), desc='NegSampling'):\n",
        "            for it in items:\n",
        "                rows_u.append(u); rows_i.append(it); rows_y.append(1.0)\n",
        "                for _ in range(neg_per_pos):\n",
        "                    while True:\n",
        "                        ni = np.random.randint(0, n_items)\n",
        "                        if ni not in items:\n",
        "                            rows_u.append(u); rows_i.append(ni); rows_y.append(0.0)\n",
        "                            break\n",
        "        self.u = torch.tensor(rows_u, dtype=torch.long)\n",
        "        self.i = torch.tensor(rows_i, dtype=torch.long)\n",
        "        self.y = torch.tensor(rows_y, dtype=torch.float32)\n",
        "    def __len__(self):\n",
        "        return len(self.y)\n",
        "    def __getitem__(self, idx):\n",
        "        return self.u[idx], self.i[idx], self.y[idx]\n",
        "\n",
        "class NCFImplicit(nn.Module):\n",
        "    def __init__(self, n_users, n_items, emb_dim=64, mlp_dims=(256,128), dropout=0.3):\n",
        "        super().__init__()\n",
        "        self.user_emb = nn.Embedding(n_users, emb_dim)\n",
        "        self.item_emb = nn.Embedding(n_items, emb_dim)\n",
        "        nn.init.normal_(self.user_emb.weight, std=0.01)\n",
        "        nn.init.normal_(self.item_emb.weight, std=0.01)\n",
        "        layers = []\n",
        "        in_dim = emb_dim*2\n",
        "        for h in mlp_dims:\n",
        "            layers.append(nn.Linear(in_dim, h))\n",
        "            layers.append(nn.ReLU())\n",
        "            layers.append(nn.Dropout(dropout))\n",
        "            in_dim = h\n",
        "        layers.append(nn.Linear(in_dim, 1))\n",
        "        self.mlp = nn.Sequential(*layers)\n",
        "    def forward(self, u, i):\n",
        "        ue = self.user_emb(u)\n",
        "        ie = self.item_emb(i)\n",
        "        x = torch.cat([ue, ie], dim=1)\n",
        "        logit = self.mlp(x).squeeze(1)\n",
        "        return logit\n",
        "\n",
        "@torch.no_grad()\n",
        "def recall_ndcg_at_k(model, user_pos_dict, all_items, k=10):\n",
        "    model.eval(); model.to(DEVICE)\n",
        "    recalls, ndcgs = [], []\n",
        "    for u, pos_items in tqdm(user_pos_dict.items(), desc=f'Metrics@{k}'):\n",
        "        if len(pos_items) == 0:\n",
        "            continue\n",
        "        u_tensor = torch.tensor([u]*len(all_items), dtype=torch.long, device=DEVICE)\n",
        "        i_tensor = torch.tensor(all_items, dtype=torch.long, device=DEVICE)\n",
        "        scores = model(u_tensor, i_tensor).detach().cpu().numpy()\n",
        "        topk_idx = np.argpartition(scores, -k)[-k:]\n",
        "        rec_list = set(all_items[topk_idx])\n",
        "        hit = len(rec_list & pos_items)\n",
        "        recalls.append(hit / min(k, len(pos_items)))\n",
        "        # NDCG\n",
        "        sorted_topk = topk_idx[np.argsort(scores[topk_idx])[::-1]]\n",
        "        dcg = 0.0; idcg = 0.0\n",
        "        gains = [1.0 if all_items[idx] in pos_items else 0.0 for idx in sorted_topk]\n",
        "        for rank, g in enumerate(gains, start=1):\n",
        "            dcg += g / math.log2(rank+1)\n",
        "        sorted_true = [1.0]*min(len(pos_items), k) + [0.0]*max(0, k-len(pos_items))\n",
        "        for rank, g in enumerate(sorted_true, start=1):\n",
        "            idcg += g / math.log2(rank+1)\n",
        "        ndcgs.append(dcg / idcg if idcg>0 else 0.0)\n",
        "    return float(np.mean(recalls)) if recalls else 0.0, float(np.mean(ndcgs)) if ndcgs else 0.0\n",
        "\n",
        "if USE_IMPLICIT:\n",
        "    impl_ds = ImplicitDataset(train_df, n_items, pos_threshold=POS_THRESHOLD, neg_per_pos=NEG_PER_POS)\n",
        "    impl_loader = DataLoader(impl_ds, batch_size=8192, shuffle=True, num_workers=2, pin_memory=True)\n",
        "    model_impl = NCFImplicit(n_users, n_items, emb_dim=64, mlp_dims=(256,128), dropout=0.3).to(DEVICE)\n",
        "    opt = torch.optim.AdamW(model_impl.parameters(), lr=3e-3, weight_decay=1e-5)\n",
        "    bce = nn.BCEWithLogitsLoss()\n",
        "    writer_imp = SummaryWriter(log_dir=os.path.join(RUNS_DIR, RUN_NAME + '_implicit'))\n",
        "    EPOCHS_IMPL = 3\n",
        "    for ep in range(EPOCHS_IMPL):\n",
        "        model_impl.train(); running=0.0; steps=0\n",
        "        pbar = tqdm(impl_loader, desc=f\"[Implicit NCF] Epoch {ep+1}/{EPOCHS_IMPL}\")\n",
        "        for u,i,y in pbar:\n",
        "            u=u.to(DEVICE); i=i.to(DEVICE); y=y.to(DEVICE)\n",
        "            logit = model_impl(u,i)\n",
        "            loss = bce(logit, y)\n",
        "            opt.zero_grad(); loss.backward(); opt.step()\n",
        "            running += float(loss.detach().cpu()); steps+=1\n",
        "            pbar.set_postfix({'bce': float(loss.detach().cpu())})\n",
        "        writer_imp.add_scalar('implicit/train_bce', running/max(1,steps), ep+1)\n",
        "    pos = train_df[train_df['rating'] >= POS_THRESHOLD]\n",
        "    user_pos = pos.groupby('u')['i'].apply(set).to_dict()\n",
        "    all_items = np.arange(n_items, dtype=np.int32)\n",
        "    rec, ndcg = recall_ndcg_at_k(model_impl, user_pos, all_items, k=K_METRIC)\n",
        "    print(f\"[Implicit NCF] Recall@{K_METRIC}={rec:.4f} | NDCG@{K_METRIC}={ndcg:.4f}\")\n",
        "    torch.save({'model_state_dict': model_impl.state_dict(), 'Recall@K': rec, 'NDCG@K': ndcg}, os.path.join(MODEL_DIR,'final_NCF_implicit.pt'))\n",
        "    writer_imp.add_scalar(f'implicit/Recall@{K_METRIC}', rec, 0)\n",
        "    writer_imp.add_scalar(f'implicit/NDCG@{K_METRIC}', ndcg, 0)\n",
        "    writer_imp.close()\n"
      ]
    },
    {
      "cell_type": "code",
      "execution_count": 14,
      "metadata": {
        "id": "t3-STkHePML2",
        "colab": {
          "base_uri": "https://localhost:8080/",
          "height": 415
        },
        "outputId": "8085ea9e-6efb-4e3c-b2c5-c4d9dbdc5de0"
      },
      "outputs": [
        {
          "output_type": "stream",
          "name": "stdout",
          "text": [
            "Saved metrics -> /content/drive/MyDrive/Penelitian/uas/models/metrics.csv\n",
            "Best model by RMSE: NCF\n",
            "Sample user raw id: 122270\n"
          ]
        },
        {
          "output_type": "display_data",
          "data": {
            "text/plain": [
              "   movieid                                            title  \\\n",
              "0    86237                               Connections (1978)   \n",
              "1     7502                          Band of Brothers (2001)   \n",
              "2      858                            Godfather, The (1972)   \n",
              "3      318                 Shawshank Redemption, The (1994)   \n",
              "4     1221                   Godfather: Part II, The (1974)   \n",
              "5    77658                                    Cosmos (1980)   \n",
              "6    27050     Bang Boom Bang - Ein todsicheres Ding (1999)   \n",
              "7   110324  Missing Picture, The (L'image manquante) (2013)   \n",
              "8   113315    Zero Motivation (Efes beyahasei enosh) (2014)   \n",
              "9      260        Star Wars: Episode IV - A New Hope (1977)   \n",
              "\n",
              "                    genres     score  \n",
              "0              Documentary  4.389040  \n",
              "1         Action|Drama|War  4.351603  \n",
              "2              Crime|Drama  4.329669  \n",
              "3              Crime|Drama  4.318628  \n",
              "4              Crime|Drama  4.211534  \n",
              "5              Documentary  4.207386  \n",
              "6            Action|Comedy  4.170518  \n",
              "7              Documentary  4.131399  \n",
              "8             Comedy|Drama  4.094485  \n",
              "9  Action|Adventure|Sci-Fi  4.075636  "
            ],
            "text/html": [
              "\n",
              "  <div id=\"df-5b5ee408-5b1d-45c6-ad8b-224753fc44e7\" class=\"colab-df-container\">\n",
              "    <div>\n",
              "<style scoped>\n",
              "    .dataframe tbody tr th:only-of-type {\n",
              "        vertical-align: middle;\n",
              "    }\n",
              "\n",
              "    .dataframe tbody tr th {\n",
              "        vertical-align: top;\n",
              "    }\n",
              "\n",
              "    .dataframe thead th {\n",
              "        text-align: right;\n",
              "    }\n",
              "</style>\n",
              "<table border=\"1\" class=\"dataframe\">\n",
              "  <thead>\n",
              "    <tr style=\"text-align: right;\">\n",
              "      <th></th>\n",
              "      <th>movieid</th>\n",
              "      <th>title</th>\n",
              "      <th>genres</th>\n",
              "      <th>score</th>\n",
              "    </tr>\n",
              "  </thead>\n",
              "  <tbody>\n",
              "    <tr>\n",
              "      <th>0</th>\n",
              "      <td>86237</td>\n",
              "      <td>Connections (1978)</td>\n",
              "      <td>Documentary</td>\n",
              "      <td>4.389040</td>\n",
              "    </tr>\n",
              "    <tr>\n",
              "      <th>1</th>\n",
              "      <td>7502</td>\n",
              "      <td>Band of Brothers (2001)</td>\n",
              "      <td>Action|Drama|War</td>\n",
              "      <td>4.351603</td>\n",
              "    </tr>\n",
              "    <tr>\n",
              "      <th>2</th>\n",
              "      <td>858</td>\n",
              "      <td>Godfather, The (1972)</td>\n",
              "      <td>Crime|Drama</td>\n",
              "      <td>4.329669</td>\n",
              "    </tr>\n",
              "    <tr>\n",
              "      <th>3</th>\n",
              "      <td>318</td>\n",
              "      <td>Shawshank Redemption, The (1994)</td>\n",
              "      <td>Crime|Drama</td>\n",
              "      <td>4.318628</td>\n",
              "    </tr>\n",
              "    <tr>\n",
              "      <th>4</th>\n",
              "      <td>1221</td>\n",
              "      <td>Godfather: Part II, The (1974)</td>\n",
              "      <td>Crime|Drama</td>\n",
              "      <td>4.211534</td>\n",
              "    </tr>\n",
              "    <tr>\n",
              "      <th>5</th>\n",
              "      <td>77658</td>\n",
              "      <td>Cosmos (1980)</td>\n",
              "      <td>Documentary</td>\n",
              "      <td>4.207386</td>\n",
              "    </tr>\n",
              "    <tr>\n",
              "      <th>6</th>\n",
              "      <td>27050</td>\n",
              "      <td>Bang Boom Bang - Ein todsicheres Ding (1999)</td>\n",
              "      <td>Action|Comedy</td>\n",
              "      <td>4.170518</td>\n",
              "    </tr>\n",
              "    <tr>\n",
              "      <th>7</th>\n",
              "      <td>110324</td>\n",
              "      <td>Missing Picture, The (L'image manquante) (2013)</td>\n",
              "      <td>Documentary</td>\n",
              "      <td>4.131399</td>\n",
              "    </tr>\n",
              "    <tr>\n",
              "      <th>8</th>\n",
              "      <td>113315</td>\n",
              "      <td>Zero Motivation (Efes beyahasei enosh) (2014)</td>\n",
              "      <td>Comedy|Drama</td>\n",
              "      <td>4.094485</td>\n",
              "    </tr>\n",
              "    <tr>\n",
              "      <th>9</th>\n",
              "      <td>260</td>\n",
              "      <td>Star Wars: Episode IV - A New Hope (1977)</td>\n",
              "      <td>Action|Adventure|Sci-Fi</td>\n",
              "      <td>4.075636</td>\n",
              "    </tr>\n",
              "  </tbody>\n",
              "</table>\n",
              "</div>\n",
              "    <div class=\"colab-df-buttons\">\n",
              "\n",
              "  <div class=\"colab-df-container\">\n",
              "    <button class=\"colab-df-convert\" onclick=\"convertToInteractive('df-5b5ee408-5b1d-45c6-ad8b-224753fc44e7')\"\n",
              "            title=\"Convert this dataframe to an interactive table.\"\n",
              "            style=\"display:none;\">\n",
              "\n",
              "  <svg xmlns=\"http://www.w3.org/2000/svg\" height=\"24px\" viewBox=\"0 -960 960 960\">\n",
              "    <path d=\"M120-120v-720h720v720H120Zm60-500h600v-160H180v160Zm220 220h160v-160H400v160Zm0 220h160v-160H400v160ZM180-400h160v-160H180v160Zm440 0h160v-160H620v160ZM180-180h160v-160H180v160Zm440 0h160v-160H620v160Z\"/>\n",
              "  </svg>\n",
              "    </button>\n",
              "\n",
              "  <style>\n",
              "    .colab-df-container {\n",
              "      display:flex;\n",
              "      gap: 12px;\n",
              "    }\n",
              "\n",
              "    .colab-df-convert {\n",
              "      background-color: #E8F0FE;\n",
              "      border: none;\n",
              "      border-radius: 50%;\n",
              "      cursor: pointer;\n",
              "      display: none;\n",
              "      fill: #1967D2;\n",
              "      height: 32px;\n",
              "      padding: 0 0 0 0;\n",
              "      width: 32px;\n",
              "    }\n",
              "\n",
              "    .colab-df-convert:hover {\n",
              "      background-color: #E2EBFA;\n",
              "      box-shadow: 0px 1px 2px rgba(60, 64, 67, 0.3), 0px 1px 3px 1px rgba(60, 64, 67, 0.15);\n",
              "      fill: #174EA6;\n",
              "    }\n",
              "\n",
              "    .colab-df-buttons div {\n",
              "      margin-bottom: 4px;\n",
              "    }\n",
              "\n",
              "    [theme=dark] .colab-df-convert {\n",
              "      background-color: #3B4455;\n",
              "      fill: #D2E3FC;\n",
              "    }\n",
              "\n",
              "    [theme=dark] .colab-df-convert:hover {\n",
              "      background-color: #434B5C;\n",
              "      box-shadow: 0px 1px 3px 1px rgba(0, 0, 0, 0.15);\n",
              "      filter: drop-shadow(0px 1px 2px rgba(0, 0, 0, 0.3));\n",
              "      fill: #FFFFFF;\n",
              "    }\n",
              "  </style>\n",
              "\n",
              "    <script>\n",
              "      const buttonEl =\n",
              "        document.querySelector('#df-5b5ee408-5b1d-45c6-ad8b-224753fc44e7 button.colab-df-convert');\n",
              "      buttonEl.style.display =\n",
              "        google.colab.kernel.accessAllowed ? 'block' : 'none';\n",
              "\n",
              "      async function convertToInteractive(key) {\n",
              "        const element = document.querySelector('#df-5b5ee408-5b1d-45c6-ad8b-224753fc44e7');\n",
              "        const dataTable =\n",
              "          await google.colab.kernel.invokeFunction('convertToInteractive',\n",
              "                                                    [key], {});\n",
              "        if (!dataTable) return;\n",
              "\n",
              "        const docLinkHtml = 'Like what you see? Visit the ' +\n",
              "          '<a target=\"_blank\" href=https://colab.research.google.com/notebooks/data_table.ipynb>data table notebook</a>'\n",
              "          + ' to learn more about interactive tables.';\n",
              "        element.innerHTML = '';\n",
              "        dataTable['output_type'] = 'display_data';\n",
              "        await google.colab.output.renderOutput(dataTable, element);\n",
              "        const docLink = document.createElement('div');\n",
              "        docLink.innerHTML = docLinkHtml;\n",
              "        element.appendChild(docLink);\n",
              "      }\n",
              "    </script>\n",
              "  </div>\n",
              "\n",
              "\n",
              "    <div id=\"df-fbb440e0-68ff-4dec-852f-9352072b0af4\">\n",
              "      <button class=\"colab-df-quickchart\" onclick=\"quickchart('df-fbb440e0-68ff-4dec-852f-9352072b0af4')\"\n",
              "                title=\"Suggest charts\"\n",
              "                style=\"display:none;\">\n",
              "\n",
              "<svg xmlns=\"http://www.w3.org/2000/svg\" height=\"24px\"viewBox=\"0 0 24 24\"\n",
              "     width=\"24px\">\n",
              "    <g>\n",
              "        <path d=\"M19 3H5c-1.1 0-2 .9-2 2v14c0 1.1.9 2 2 2h14c1.1 0 2-.9 2-2V5c0-1.1-.9-2-2-2zM9 17H7v-7h2v7zm4 0h-2V7h2v10zm4 0h-2v-4h2v4z\"/>\n",
              "    </g>\n",
              "</svg>\n",
              "      </button>\n",
              "\n",
              "<style>\n",
              "  .colab-df-quickchart {\n",
              "      --bg-color: #E8F0FE;\n",
              "      --fill-color: #1967D2;\n",
              "      --hover-bg-color: #E2EBFA;\n",
              "      --hover-fill-color: #174EA6;\n",
              "      --disabled-fill-color: #AAA;\n",
              "      --disabled-bg-color: #DDD;\n",
              "  }\n",
              "\n",
              "  [theme=dark] .colab-df-quickchart {\n",
              "      --bg-color: #3B4455;\n",
              "      --fill-color: #D2E3FC;\n",
              "      --hover-bg-color: #434B5C;\n",
              "      --hover-fill-color: #FFFFFF;\n",
              "      --disabled-bg-color: #3B4455;\n",
              "      --disabled-fill-color: #666;\n",
              "  }\n",
              "\n",
              "  .colab-df-quickchart {\n",
              "    background-color: var(--bg-color);\n",
              "    border: none;\n",
              "    border-radius: 50%;\n",
              "    cursor: pointer;\n",
              "    display: none;\n",
              "    fill: var(--fill-color);\n",
              "    height: 32px;\n",
              "    padding: 0;\n",
              "    width: 32px;\n",
              "  }\n",
              "\n",
              "  .colab-df-quickchart:hover {\n",
              "    background-color: var(--hover-bg-color);\n",
              "    box-shadow: 0 1px 2px rgba(60, 64, 67, 0.3), 0 1px 3px 1px rgba(60, 64, 67, 0.15);\n",
              "    fill: var(--button-hover-fill-color);\n",
              "  }\n",
              "\n",
              "  .colab-df-quickchart-complete:disabled,\n",
              "  .colab-df-quickchart-complete:disabled:hover {\n",
              "    background-color: var(--disabled-bg-color);\n",
              "    fill: var(--disabled-fill-color);\n",
              "    box-shadow: none;\n",
              "  }\n",
              "\n",
              "  .colab-df-spinner {\n",
              "    border: 2px solid var(--fill-color);\n",
              "    border-color: transparent;\n",
              "    border-bottom-color: var(--fill-color);\n",
              "    animation:\n",
              "      spin 1s steps(1) infinite;\n",
              "  }\n",
              "\n",
              "  @keyframes spin {\n",
              "    0% {\n",
              "      border-color: transparent;\n",
              "      border-bottom-color: var(--fill-color);\n",
              "      border-left-color: var(--fill-color);\n",
              "    }\n",
              "    20% {\n",
              "      border-color: transparent;\n",
              "      border-left-color: var(--fill-color);\n",
              "      border-top-color: var(--fill-color);\n",
              "    }\n",
              "    30% {\n",
              "      border-color: transparent;\n",
              "      border-left-color: var(--fill-color);\n",
              "      border-top-color: var(--fill-color);\n",
              "      border-right-color: var(--fill-color);\n",
              "    }\n",
              "    40% {\n",
              "      border-color: transparent;\n",
              "      border-right-color: var(--fill-color);\n",
              "      border-top-color: var(--fill-color);\n",
              "    }\n",
              "    60% {\n",
              "      border-color: transparent;\n",
              "      border-right-color: var(--fill-color);\n",
              "    }\n",
              "    80% {\n",
              "      border-color: transparent;\n",
              "      border-right-color: var(--fill-color);\n",
              "      border-bottom-color: var(--fill-color);\n",
              "    }\n",
              "    90% {\n",
              "      border-color: transparent;\n",
              "      border-bottom-color: var(--fill-color);\n",
              "    }\n",
              "  }\n",
              "</style>\n",
              "\n",
              "      <script>\n",
              "        async function quickchart(key) {\n",
              "          const quickchartButtonEl =\n",
              "            document.querySelector('#' + key + ' button');\n",
              "          quickchartButtonEl.disabled = true;  // To prevent multiple clicks.\n",
              "          quickchartButtonEl.classList.add('colab-df-spinner');\n",
              "          try {\n",
              "            const charts = await google.colab.kernel.invokeFunction(\n",
              "                'suggestCharts', [key], {});\n",
              "          } catch (error) {\n",
              "            console.error('Error during call to suggestCharts:', error);\n",
              "          }\n",
              "          quickchartButtonEl.classList.remove('colab-df-spinner');\n",
              "          quickchartButtonEl.classList.add('colab-df-quickchart-complete');\n",
              "        }\n",
              "        (() => {\n",
              "          let quickchartButtonEl =\n",
              "            document.querySelector('#df-fbb440e0-68ff-4dec-852f-9352072b0af4 button');\n",
              "          quickchartButtonEl.style.display =\n",
              "            google.colab.kernel.accessAllowed ? 'block' : 'none';\n",
              "        })();\n",
              "      </script>\n",
              "    </div>\n",
              "\n",
              "    </div>\n",
              "  </div>\n"
            ],
            "application/vnd.google.colaboratory.intrinsic+json": {
              "type": "dataframe",
              "summary": "{\n  \"name\": \"display(topn_for_user(sample_raw_user, topk=10))\",\n  \"rows\": 10,\n  \"fields\": [\n    {\n      \"column\": \"movieid\",\n      \"properties\": {\n        \"dtype\": \"number\",\n        \"std\": 48567,\n        \"min\": 260,\n        \"max\": 113315,\n        \"num_unique_values\": 10,\n        \"samples\": [\n          113315,\n          7502,\n          77658\n        ],\n        \"semantic_type\": \"\",\n        \"description\": \"\"\n      }\n    },\n    {\n      \"column\": \"title\",\n      \"properties\": {\n        \"dtype\": \"string\",\n        \"num_unique_values\": 10,\n        \"samples\": [\n          \"Zero Motivation (Efes beyahasei enosh) (2014)\",\n          \"Band of Brothers (2001)\",\n          \"Cosmos (1980)\"\n        ],\n        \"semantic_type\": \"\",\n        \"description\": \"\"\n      }\n    },\n    {\n      \"column\": \"genres\",\n      \"properties\": {\n        \"dtype\": \"string\",\n        \"num_unique_values\": 6,\n        \"samples\": [\n          \"Documentary\",\n          \"Action|Drama|War\",\n          \"Action|Adventure|Sci-Fi\"\n        ],\n        \"semantic_type\": \"\",\n        \"description\": \"\"\n      }\n    },\n    {\n      \"column\": \"score\",\n      \"properties\": {\n        \"dtype\": \"float32\",\n        \"num_unique_values\": 10,\n        \"samples\": [\n          4.094485282897949,\n          4.351602554321289,\n          4.207386493682861\n        ],\n        \"semantic_type\": \"\",\n        \"description\": \"\"\n      }\n    }\n  ]\n}"
            }
          },
          "metadata": {}
        }
      ],
      "source": [
        "metrics_path = os.path.join(MODEL_DIR, 'metrics.csv')\n",
        "metrics_df = pd.DataFrame([\n",
        "    {'model':'MF',  'test_rmse': rmse_test_mf,  'test_mae': mae_test_mf},\n",
        "    {'model':'NCF', 'test_rmse': rmse_test_ncf, 'test_mae': mae_test_ncf},\n",
        "])\n",
        "metrics_df.to_csv(metrics_path, index=False)\n",
        "print('Saved metrics ->', metrics_path)\n",
        "\n",
        "best_model_name = 'MF' if rmse_test_mf <= rmse_test_ncf else 'NCF'\n",
        "best_model = mf if best_model_name=='MF' else ncf\n",
        "print('Best model by RMSE:', best_model_name)\n",
        "\n",
        "watched_train = train_df.groupby('u')['i'].apply(set).to_dict()\n",
        "\n",
        "@torch.no_grad()\n",
        "def topn_for_user(u_raw, topk=10):\n",
        "    u = user2idx.get(u_raw, None)\n",
        "    if u is None:\n",
        "        raise ValueError('User raw id tidak ditemukan dalam mapping!')\n",
        "    best_model.eval(); best_model.to(DEVICE)\n",
        "    seen = watched_train.get(u, set())\n",
        "    candidates = np.array([it for it in range(n_items) if it not in seen], dtype=np.int64)\n",
        "    if len(candidates) == 0:\n",
        "        return pd.DataFrame(columns=['movieid','title','genres','score'])\n",
        "    u_tensor = torch.tensor([u]*len(candidates), dtype=torch.long, device=DEVICE)\n",
        "    i_tensor = torch.tensor(candidates, dtype=torch.long, device=DEVICE)\n",
        "    scores = best_model(u_tensor, i_tensor).detach().cpu().numpy()\n",
        "    scores = np.clip(scores, R_MIN, R_MAX)\n",
        "    top_idx = np.argpartition(scores, -topk)[-topk:]\n",
        "    top_items = candidates[top_idx]\n",
        "    top_scores = scores[top_idx]\n",
        "    inv_item = {v:k for k,v in item2idx.items()}\n",
        "    top_movieids = [inv_item[int(i)] for i in top_items]\n",
        "    rec_df = pd.DataFrame({'movieid': top_movieids, 'score': top_scores})\n",
        "    rec_df = rec_df.merge(movies[['movieid','title','genres']], on='movieid', how='left').sort_values('score', ascending=False).reset_index(drop=True)\n",
        "    return rec_df[['movieid','title','genres','score']]\n",
        "\n",
        "\n",
        "sample_raw_user = int(ratings['userid'].sample(1, random_state=SEED).iloc[0])\n",
        "print('Sample user raw id:', sample_raw_user)\n",
        "display(topn_for_user(sample_raw_user, topk=10))\n"
      ]
    },
    {
      "cell_type": "code",
      "execution_count": 13,
      "metadata": {
        "id": "LdcBI4EBPOly",
        "colab": {
          "base_uri": "https://localhost:8080/"
        },
        "outputId": "fd25704e-6ee7-4044-f0ad-85257f28d0b2"
      },
      "outputs": [
        {
          "metadata": {
            "tags": null
          },
          "name": "stdout",
          "output_type": "stream",
          "text": [
            "==== RINGKASAN ====\n",
            "MF:   Test RMSE=0.9870 | Test MAE=0.7582\n",
            "NCF:  Test RMSE=0.8759 | Test MAE=0.6682\n",
            "Model & artefak tersimpan di:\n",
            "/content/drive/MyDrive/Penelitian/uas/models/final_MF.pt\n",
            "/content/drive/MyDrive/Penelitian/uas/models/final_NCF.pt\n",
            "/content/drive/MyDrive/Penelitian/uas/models/best_hparams.json\n",
            "/content/drive/MyDrive/Penelitian/uas/models/metrics.csv\n",
            "EDA figs dir -> /content/drive/MyDrive/Penelitian/uas/models/figs\n",
            "Selesai.\n"
          ]
        }
      ],
      "source": [
        "print(\"==== RINGKASAN ====\")\n",
        "print(f\"MF:   Test RMSE={rmse_test_mf:.4f} | Test MAE={mae_test_mf:.4f}\")\n",
        "print(f\"NCF:  Test RMSE={rmse_test_ncf:.4f} | Test MAE={mae_test_ncf:.4f}\")\n",
        "print(\"Model & artefak tersimpan di:\")\n",
        "print(final_mf_path)\n",
        "print(final_ncf_path)\n",
        "print(os.path.join(MODEL_DIR, 'best_hparams.json'))\n",
        "print(metrics_path)\n",
        "print('EDA figs dir ->', FIG_DIR)\n",
        "print(\"Selesai.\")"
      ]
    },
    {
      "cell_type": "code",
      "source": [
        "# CELL 14 — Rebuild artefak untuk UI (tanpa training ulang)\n",
        "\n",
        "import os, glob, json\n",
        "import numpy as np\n",
        "import pandas as pd\n",
        "try:\n",
        "    from google.colab import drive\n",
        "    drive.mount('/content/drive')\n",
        "except Exception:\n",
        "    pass\n",
        "\n",
        "BASE_CANDIDATES = [\n",
        "    '/content/drive/MyDrive/Penelitian/uas',\n",
        "]\n",
        "def find_file(bases, fname):\n",
        "    for b in bases:\n",
        "        if os.path.exists(b):\n",
        "            hits = glob.glob(os.path.join(b, '**', fname), recursive=True)\n",
        "            if hits:\n",
        "                return sorted(hits, key=len)[0]\n",
        "    return None\n",
        "\n",
        "paths = {}\n",
        "for f in ['ratings.csv','movies.csv','metrics.csv','final_MF.pt','final_NCF.pt']:\n",
        "    p = find_file(BASE_CANDIDATES, f)\n",
        "    if p is None and f in ['final_MF.pt','final_NCF.pt']:\n",
        "        # boleh tidak ada salah satu model\n",
        "        print(f\"Warning: {f} belum ditemukan (tidak masalah bila cuma punya satu model).\")\n",
        "    elif p is None:\n",
        "        raise FileNotFoundError(f\"Gagal menemukan {f} di {BASE_CANDIDATES}\")\n",
        "    paths[f] = p\n",
        "\n",
        "print(\"== Paths ==\")\n",
        "for k,v in paths.items():\n",
        "    print(f\"{k}: {v}\")\n",
        "\n",
        "BASE_DIR  = os.path.dirname(paths['ratings.csv'])\n",
        "MODEL_DIR = os.path.join(BASE_DIR, 'models')\n",
        "FIG_DIR   = os.path.join(MODEL_DIR, 'figs')\n",
        "os.makedirs(MODEL_DIR, exist_ok=True)\n",
        "os.makedirs(FIG_DIR, exist_ok=True)\n",
        "ratings = pd.read_csv(paths['ratings.csv'])\n",
        "movies  = pd.read_csv(paths['movies.csv'])\n",
        "\n",
        "ratings.columns = [c.lower() for c in ratings.columns]\n",
        "movies.columns  = [c.lower() for c in movies.columns]\n",
        "uid_unique = ratings['userid'].unique()\n",
        "mid_unique = ratings['movieid'].unique()\n",
        "user2idx = {int(u): int(i) for i,u in enumerate(uid_unique)}\n",
        "item2idx = {int(m): int(i) for i,m in enumerate(mid_unique)}\n",
        "R_MIN, R_MAX = float(ratings['rating'].min()), float(ratings['rating'].max())\n",
        "ratings['_u'] = ratings['userid'].map(user2idx).astype('int32')\n",
        "ratings['_i'] = ratings['movieid'].map(item2idx).astype('int32')\n",
        "watched_train = ratings.groupby('_u')['_i'].apply(set).to_dict()\n",
        "idx_mappings_path = os.path.join(MODEL_DIR, 'idx_mappings.json')\n",
        "with open(idx_mappings_path, 'w') as f:\n",
        "    json.dump({'user2idx': user2idx, 'item2idx': item2idx, 'R_MIN': R_MIN, 'R_MAX': R_MAX}, f, indent=2)\n",
        "print(\"Saved:\", idx_mappings_path)\n",
        "\n",
        "movies_small = movies[['movieid','title','genres']].copy()\n",
        "movies_small_path = os.path.join(MODEL_DIR, 'movies_small.csv')\n",
        "movies_small.to_csv(movies_small_path, index=False)\n",
        "print(\"Saved:\", movies_small_path)\n",
        "\n",
        "watched_train_path = os.path.join(MODEL_DIR, 'watched_train.json')\n",
        "with open(watched_train_path, 'w') as f:\n",
        "    json.dump({int(k): [int(x) for x in list(v)] for k,v in watched_train.items()}, f)\n",
        "print(\"Saved:\", watched_train_path)\n",
        "metrics_path = paths.get('metrics.csv') or find_file(BASE_CANDIDATES, 'metrics.csv')\n",
        "assert metrics_path is not None, \"metrics.csv tidak ditemukan; pastikan cell 12 pernah menyimpannya.\"\n",
        "metrics_df = pd.read_csv(metrics_path)\n",
        "\n",
        "best_row = metrics_df.sort_values('test_rmse').iloc[0]\n",
        "best_model_name = best_row['model']\n",
        "\n",
        "best_model_info_path = os.path.join(MODEL_DIR, 'best_model.json')\n",
        "with open(best_model_info_path, 'w') as f:\n",
        "    json.dump({'best_model': best_model_name}, f, indent=2)\n",
        "print(\"Saved:\", best_model_info_path)\n",
        "if os.path.dirname(metrics_path) != MODEL_DIR:\n",
        "    target_metrics = os.path.join(MODEL_DIR, 'metrics.csv')\n",
        "    metrics_df.to_csv(target_metrics, index=False)\n",
        "    print(\"Copied metrics.csv ->\", target_metrics)\n",
        "else:\n",
        "    print(\"metrics.csv sudah di MODEL_DIR:\", metrics_path)\n",
        "\n",
        "print(\"\\nArtefak siap untuk UI Streamlit di:\", MODEL_DIR)\n"
      ],
      "metadata": {
        "colab": {
          "base_uri": "https://localhost:8080/"
        },
        "id": "Fg5yCKjp2Xpd",
        "outputId": "17b0d705-dcfe-4ba2-c16b-854cfe429ab9"
      },
      "execution_count": 3,
      "outputs": [
        {
          "output_type": "stream",
          "name": "stdout",
          "text": [
            "Mounted at /content/drive\n",
            "== Paths ==\n",
            "ratings.csv: /content/drive/MyDrive/Penelitian/uas/ratings.csv\n",
            "movies.csv: /content/drive/MyDrive/Penelitian/uas/movies.csv\n",
            "metrics.csv: /content/drive/MyDrive/Penelitian/uas/models/metrics.csv\n",
            "final_MF.pt: /content/drive/MyDrive/Penelitian/uas/models/final_MF.pt\n",
            "final_NCF.pt: /content/drive/MyDrive/Penelitian/uas/models/final_NCF.pt\n",
            "Saved: /content/drive/MyDrive/Penelitian/uas/models/idx_mappings.json\n",
            "Saved: /content/drive/MyDrive/Penelitian/uas/models/movies_small.csv\n",
            "Saved: /content/drive/MyDrive/Penelitian/uas/models/watched_train.json\n",
            "Saved: /content/drive/MyDrive/Penelitian/uas/models/best_model.json\n",
            "metrics.csv sudah di MODEL_DIR: /content/drive/MyDrive/Penelitian/uas/models/metrics.csv\n",
            "\n",
            "Artefak siap untuk UI Streamlit di: /content/drive/MyDrive/Penelitian/uas/models\n"
          ]
        }
      ]
    },
    {
      "cell_type": "code",
      "source": [
        "# CELL 15 — Generate streamlit_app.py (MF & NCF) di MODEL_DIR\n",
        "\n",
        "import os\n",
        "\n",
        "app_path = os.path.join(MODEL_DIR, 'streamlit_app.py')\n",
        "app_code = r\"\"\"\n",
        "import os, json, time\n",
        "import numpy as np\n",
        "import pandas as pd\n",
        "import streamlit as st\n",
        "import torch\n",
        "import torch.nn as nn\n",
        "\n",
        "HERE = os.path.dirname(os.path.abspath(__file__))\n",
        "ART_DIR = HERE\n",
        "FIG_DIR = os.path.join(ART_DIR, 'figs')\n",
        "DEVICE = torch.device('cuda' if torch.cuda.is_available() else 'cpu')\n",
        "\n",
        "# ======= Model defs (sesuai training) =======\n",
        "class MF(nn.Module):\n",
        "    def __init__(self, n_users, n_items, emb_dim=64, bias=True):\n",
        "        super().__init__()\n",
        "        self.user_emb = nn.Embedding(n_users, emb_dim)\n",
        "        self.item_emb = nn.Embedding(n_items, emb_dim)\n",
        "        self.use_bias = bias\n",
        "        if bias:\n",
        "            self.user_bias = nn.Embedding(n_users, 1)\n",
        "            self.item_bias = nn.Embedding(n_items, 1)\n",
        "        else:\n",
        "            self.user_bias = None\n",
        "            self.item_bias = None\n",
        "    def forward(self, u, i):\n",
        "        ue = self.user_emb(u); ie = self.item_emb(i)\n",
        "        dot = (ue * ie).sum(dim=1)\n",
        "        if self.use_bias:\n",
        "            dot = dot + self.user_bias(u).squeeze(1) + self.item_bias(i).squeeze(1)\n",
        "        return dot\n",
        "\n",
        "class NCF(nn.Module):\n",
        "    def __init__(self, n_users, n_items, emb_dim=64, mlp_dims=(256,128,64), dropout=0.3):\n",
        "        super().__init__()\n",
        "        self.user_emb = nn.Embedding(n_users, emb_dim)\n",
        "        self.item_emb = nn.Embedding(n_items, emb_dim)\n",
        "        layers = []\n",
        "        in_dim = emb_dim*2\n",
        "        for h in mlp_dims:\n",
        "            layers += [nn.Linear(in_dim, h), nn.ReLU(), nn.Dropout(dropout)]\n",
        "            in_dim = h\n",
        "        layers += [nn.Linear(in_dim, 1)]\n",
        "        self.mlp = nn.Sequential(*layers)\n",
        "    def forward(self, u, i):\n",
        "        ue = self.user_emb(u); ie = self.item_emb(i)\n",
        "        x = torch.cat([ue, ie], dim=1)\n",
        "        return self.mlp(x).squeeze(1)\n",
        "\n",
        "# ======= Load artefak =======\n",
        "st.set_page_config(page_title=\"Rekomendasi Film — MovieLens\", layout=\"wide\")\n",
        "st.title(\"🎬 Sistem Rekomendasi Film — MovieLens (MF vs NCF)\")\n",
        "st.caption(\"Evaluasi RMSE & MAE, plus rekomendasi Top-K\")\n",
        "\n",
        "idx_info = json.load(open(os.path.join(ART_DIR, 'idx_mappings.json')))\n",
        "user2idx = {int(k): int(v) for k,v in idx_info['user2idx'].items()}\n",
        "item2idx = {int(k): int(v) for k,v in idx_info['item2idx'].items()}\n",
        "R_MIN, R_MAX = idx_info['R_MIN'], idx_info['R_MAX']\n",
        "\n",
        "movies_small = pd.read_csv(os.path.join(ART_DIR, 'movies_small.csv'))\n",
        "metrics = pd.read_csv(os.path.join(ART_DIR, 'metrics.csv'))\n",
        "best_info = json.load(open(os.path.join(ART_DIR, 'best_model.json')))\n",
        "\n",
        "n_users = len(user2idx); n_items = len(item2idx)\n",
        "\n",
        "# sidebar — pilih model\n",
        "models_avail = metrics['model'].dropna().unique().tolist()  # ex: ['MF','NCF']\n",
        "default_model = best_info.get('best_model', models_avail[0] if models_avail else 'MF')\n",
        "model_choice = st.sidebar.selectbox(\"Pilih Model\", options=models_avail, index=models_avail.index(default_model) if default_model in models_avail else 0)\n",
        "\n",
        "# map ke nama checkpoint\n",
        "ckpt_map = {'MF': 'final_MF.pt', 'NCF': 'final_NCF.pt'}\n",
        "ckpt_name = ckpt_map.get(model_choice)\n",
        "ckpt_path = os.path.join(ART_DIR, ckpt_name)\n",
        "if not os.path.exists(ckpt_path):\n",
        "    st.error(f\"Checkpoint {ckpt_name} tidak ditemukan di {ART_DIR}\")\n",
        "    st.stop()\n",
        "\n",
        "# rekonstruksi model dari state dict\n",
        "state = torch.load(ckpt_path, map_location='cpu')\n",
        "sd = state['model_state_dict']\n",
        "\n",
        "if model_choice == 'MF':\n",
        "    emb_dim = sd['user_emb.weight'].shape[1]\n",
        "    model = MF(n_users, n_items, emb_dim=emb_dim, bias=True)\n",
        "else:\n",
        "    emb_dim = sd['user_emb.weight'].shape[1]\n",
        "    # infer mlp hidden dims (ambil semua 'mlp.*.weight' kecuali output)\n",
        "    linear_keys = [k for k in sd.keys() if k.startswith('mlp.') and k.endswith('.weight')]\n",
        "    linear_ids = sorted([int(k.split('.')[1]) for k in linear_keys if k.split('.')[2]=='weight'])\n",
        "    outs = []\n",
        "    for lid in linear_ids:\n",
        "        W = sd[f'mlp.{lid}.weight']\n",
        "        outs.append(W.shape[0])\n",
        "    mlp_dims = tuple(outs[:-1]) if outs and outs[-1]==1 else tuple(outs) if outs else (256,128,64)\n",
        "    model = NCF(n_users, n_items, emb_dim=emb_dim, mlp_dims=mlp_dims, dropout=0.0)\n",
        "\n",
        "model.load_state_dict(sd); model.eval(); model.to(DEVICE)\n",
        "\n",
        "# tampilkan metrics\n",
        "st.subheader(\"📊 Evaluasi (Test Set)\")\n",
        "st.dataframe(metrics.style.highlight_min(['test_rmse','test_mae'], color='#b6e3ff'), use_container_width=True)\n",
        "\n",
        "# EDA (jika ada)\n",
        "st.subheader(\"🔎 EDA (opsional)\")\n",
        "cols = st.columns(3)\n",
        "for i, (fn, cap) in enumerate([\n",
        "    ('rating_distribution.png','Distribusi Rating'),\n",
        "    ('interaksi_per_user.png','Interaksi per User'),\n",
        "    ('interaksi_per_item.png','Interaksi per Item'),\n",
        "]):\n",
        "    p = os.path.join(FIG_DIR, fn)\n",
        "    if os.path.exists(p):\n",
        "        with cols[i%3]:\n",
        "            st.image(p, caption=cap, use_container_width=True)\n",
        "\n",
        "# rekomendasi\n",
        "st.subheader(\"🎯 Rekomendasi\")\n",
        "all_user_ids = sorted(user2idx.keys())\n",
        "default_user = all_user_ids[len(all_user_ids)//2] if all_user_ids else (next(iter(user2idx)) if user2idx else 1)\n",
        "user_raw = st.number_input(\"Masukkan User ID (raw)\", value=default_user, step=1)\n",
        "topk = st.slider(\"Top-K\", 5, 30, 10, 1)\n",
        "genre_filter = st.text_input(\"Filter Genre (opsional, mis. Action|Comedy)\", \"\")\n",
        "\n",
        "# watched masking\n",
        "watched_train = {}\n",
        "wt_path = os.path.join(ART_DIR, 'watched_train.json')\n",
        "if os.path.exists(wt_path):\n",
        "    tmp = json.load(open(wt_path))\n",
        "    watched_train = {int(k): set(v) for k,v in tmp.items()}\n",
        "\n",
        "inv_item = {v:k for k,v in item2idx.items()}\n",
        "\n",
        "@torch.no_grad()\n",
        "def recommend(u_raw, topk=10, genre_filter=None):\n",
        "    if u_raw not in user2idx:\n",
        "        return pd.DataFrame(columns=['movieid','title','genres','score'])\n",
        "    u = user2idx[u_raw]\n",
        "    seen = watched_train.get(u, set())\n",
        "    candidates = np.array([it for it in range(n_items) if it not in seen], dtype=np.int64)\n",
        "    if len(candidates) == 0:\n",
        "        return pd.DataFrame(columns=['movieid','title','genres','score'])\n",
        "    u_tensor = torch.tensor([u]*len(candidates), dtype=torch.long, device=DEVICE)\n",
        "    i_tensor = torch.tensor(candidates, dtype=torch.long, device=DEVICE)\n",
        "    scores = model(u_tensor, i_tensor).detach().cpu().numpy()\n",
        "    scores = np.clip(scores, R_MIN, R_MAX)\n",
        "    cand_movieids = [inv_item[int(i)] for i in candidates]\n",
        "    rec_df = pd.DataFrame({'movieid': cand_movieids, 'score': scores})\n",
        "    rec_df = rec_df.merge(movies_small, on='movieid', how='left')\n",
        "    if genre_filter:\n",
        "        rec_df = rec_df[rec_df['genres'].fillna('').str.contains(genre_filter, case=False, na=False)]\n",
        "    return rec_df.sort_values('score', ascending=False).head(topk).reset_index(drop=True)\n",
        "\n",
        "if st.button(\"Dapatkan Rekomendasi\"):\n",
        "    t0 = time.time()\n",
        "    recs = recommend(user_raw, topk=topk, genre_filter=genre_filter.strip() or None)\n",
        "    st.write(f\"Hasil untuk User **{user_raw}** (Top-{topk})\")\n",
        "    st.dataframe(recs, use_container_width=True)\n",
        "    st.caption(f\"Selesai dalam {time.time()-t0:.2f}s\")\n",
        "\"\"\"\n",
        "\n",
        "with open(app_path, \"w\", encoding=\"utf-8\") as f:\n",
        "    f.write(app_code)\n",
        "\n",
        "print(\"✅ streamlit_app.py ditulis ke:\", app_path)\n",
        "print(\"Jalankan lokal (opsional):\")\n",
        "print(f\"!pip install streamlit && streamlit run {app_path}\")\n"
      ],
      "metadata": {
        "id": "mkHpP5DK4kDI",
        "outputId": "4d26be1c-6947-4de4-943b-bbefd127ead9",
        "colab": {
          "base_uri": "https://localhost:8080/"
        }
      },
      "execution_count": 4,
      "outputs": [
        {
          "output_type": "stream",
          "name": "stdout",
          "text": [
            "✅ streamlit_app.py ditulis ke: /content/drive/MyDrive/Penelitian/uas/models/streamlit_app.py\n",
            "Jalankan lokal (opsional):\n",
            "!pip install streamlit && streamlit run /content/drive/MyDrive/Penelitian/uas/models/streamlit_app.py\n"
          ]
        }
      ]
    },
    {
      "cell_type": "code",
      "source": [
        "# CELL 16 — requirements.txt + cara run/deploy\n",
        "\n",
        "req_path = os.path.join(MODEL_DIR, 'requirements.txt')\n",
        "with open(req_path, 'w') as f:\n",
        "    f.write(\"\\n\".join([\n",
        "        \"pandas\",\n",
        "        \"numpy\",\n",
        "        \"tqdm\",\n",
        "        \"matplotlib\",\n",
        "        \"scikit-learn\",\n",
        "        \"torch\",\n",
        "        \"tensorboard\",\n",
        "        \"streamlit\"\n",
        "    ]))\n",
        "print(\"✅ Saved:\", req_path)\n",
        "\n",
        "print(\"\\n=== Cara jalanin lokal ===\")\n",
        "print(f\"1) pip install -r {req_path}\")\n",
        "print(f\"2) streamlit run {os.path.join(MODEL_DIR, 'streamlit_app.py')}\")\n",
        "\n",
        "print(\"\\n=== Deploy ke Streamlit Community Cloud ===\")\n",
        "print(\"• Taruh folder 'models/' (isi: streamlit_app.py, requirements.txt, metrics.csv, idx_mappings.json, movies_small.csv, watched_train.json, final_MF.pt/NCF.pt, (opsional) figs/)\")\n",
        "print(\"• Push ke GitHub, lalu hubungkan ke https://streamlit.io/cloud\")\n",
        "print(\"• Set file utama: models/streamlit_app.py\")\n",
        "\n",
        "print(\"\\n=== Deploy ke Hugging Face Spaces (Streamlit) ===\")\n",
        "print(\"• Buat Space tipe Streamlit\")\n",
        "print(\"• Upload folder 'models/' beserta file-file di atas\")\n",
        "print(\"• Pastikan requirements.txt satu folder dengan streamlit_app.py\")\n"
      ],
      "metadata": {
        "id": "pyEzQiny4y43",
        "outputId": "dd91e43e-cf2d-4bee-e678-130b0d2886d6",
        "colab": {
          "base_uri": "https://localhost:8080/"
        }
      },
      "execution_count": 5,
      "outputs": [
        {
          "output_type": "stream",
          "name": "stdout",
          "text": [
            "✅ Saved: /content/drive/MyDrive/Penelitian/uas/models/requirements.txt\n",
            "\n",
            "=== Cara jalanin lokal ===\n",
            "1) pip install -r /content/drive/MyDrive/Penelitian/uas/models/requirements.txt\n",
            "2) streamlit run /content/drive/MyDrive/Penelitian/uas/models/streamlit_app.py\n",
            "\n",
            "=== Deploy ke Streamlit Community Cloud ===\n",
            "• Taruh folder 'models/' (isi: streamlit_app.py, requirements.txt, metrics.csv, idx_mappings.json, movies_small.csv, watched_train.json, final_MF.pt/NCF.pt, (opsional) figs/)\n",
            "• Push ke GitHub, lalu hubungkan ke https://streamlit.io/cloud\n",
            "• Set file utama: models/streamlit_app.py\n",
            "\n",
            "=== Deploy ke Hugging Face Spaces (Streamlit) ===\n",
            "• Buat Space tipe Streamlit\n",
            "• Upload folder 'models/' beserta file-file di atas\n",
            "• Pastikan requirements.txt satu folder dengan streamlit_app.py\n"
          ]
        }
      ]
    },
    {
      "cell_type": "code",
      "source": [
        "# EDA-1 — Setup & Load Data (self-contained)\n",
        "import os, glob, re, json, math, random, time, gc\n",
        "import numpy as np\n",
        "import pandas as pd\n",
        "import matplotlib.pyplot as plt\n",
        "try:\n",
        "    import seaborn as sns\n",
        "except:\n",
        "    !pip -q install seaborn\n",
        "    import seaborn as sns\n",
        "\n",
        "sns.set_theme(style=\"whitegrid\")\n",
        "try:\n",
        "    from google.colab import drive\n",
        "    drive.mount('/content/drive', force_remount=False)\n",
        "except:\n",
        "    pass\n",
        "BASE_CANDIDATES = ['/content/drive/MyDrive/Penelitian/uas', '/content/drive/MyDrive', '.']\n",
        "REQUIRED = ['ratings.csv','movies.csv','tags.csv','genome-scores.csv','genome-tags.csv','links.csv']\n",
        "\n",
        "def find_file(fname):\n",
        "    for base in BASE_CANDIDATES:\n",
        "        if os.path.exists(base):\n",
        "            hits = glob.glob(os.path.join(base, '**', fname), recursive=True)\n",
        "            if hits:\n",
        "                return sorted(hits, key=len)[0]\n",
        "    return None\n",
        "\n",
        "paths = {f: find_file(f) for f in REQUIRED}\n",
        "missing = [k for k,v in paths.items() if v is None]\n",
        "assert not missing, f\"File hilang: {missing}. Pastikan semua CSV ada di Penelitian/uas.\"\n",
        "\n",
        "print(\"== Dataset Paths ==\")\n",
        "for k,v in paths.items(): print(f\"{k}: {v}\")\n",
        "\n",
        "BASE_DIR  = os.path.dirname(paths['ratings.csv'])\n",
        "MODEL_DIR = os.path.join(BASE_DIR, 'models')\n",
        "FIG_DIR   = os.path.join(MODEL_DIR, 'figs')\n",
        "os.makedirs(MODEL_DIR, exist_ok=True)\n",
        "os.makedirs(FIG_DIR, exist_ok=True)\n",
        "\n",
        "def read_csv_lower(p, **kw):\n",
        "    df = pd.read_csv(p, **kw); df.columns = [c.lower() for c in df.columns]; return df\n",
        "\n",
        "ratings = read_csv_lower(paths['ratings.csv'])\n",
        "movies  = read_csv_lower(paths['movies.csv'])\n",
        "tags    = read_csv_lower(paths['tags.csv'])\n",
        "gscores = read_csv_lower(paths['genome-scores.csv'])\n",
        "gtags   = read_csv_lower(paths['genome-tags.csv'])\n",
        "links   = read_csv_lower(paths['links.csv'])\n",
        "\n",
        "print(f\"N ratings={len(ratings):,} | users={ratings['userid'].nunique():,} | movies={ratings['movieid'].nunique():,}\")\n",
        "\n",
        "R_MIN, R_MAX = float(ratings['rating'].min()), float(ratings['rating'].max())\n",
        "ratings['timestamp'] = pd.to_datetime(ratings['timestamp'], unit='s', errors='coerce')\n",
        "def extract_year(title:str):\n",
        "    if not isinstance(title, str): return np.nan\n",
        "    m = re.search(r'\\((\\d{4})\\)\\s*$', title)\n",
        "    return int(m.group(1)) if m else np.nan\n",
        "\n",
        "movies['year'] = movies['title'].apply(extract_year)\n",
        "movies_small = movies[['movieid','title','genres','year']]\n",
        "movies_small.to_csv(os.path.join(MODEL_DIR, 'movies_small.csv'), index=False)\n",
        "\n",
        "with open(os.path.join(MODEL_DIR, 'eda_info.json'), 'w') as f:\n",
        "    json.dump({'R_MIN':R_MIN,'R_MAX':R_MAX,'n_users':int(ratings['userid'].nunique()),\n",
        "               'n_items':int(ratings['movieid'].nunique()),'n_interactions':int(len(ratings))}, f, indent=2)\n",
        "\n",
        "print(\"Setup OK → FIG_DIR:\", FIG_DIR)\n"
      ],
      "metadata": {
        "id": "0g5HOXU07aXw",
        "outputId": "9a30a5e5-63ba-4d68-a582-17c9449c85a5",
        "colab": {
          "base_uri": "https://localhost:8080/"
        }
      },
      "execution_count": 11,
      "outputs": [
        {
          "output_type": "stream",
          "name": "stdout",
          "text": [
            "Drive already mounted at /content/drive; to attempt to forcibly remount, call drive.mount(\"/content/drive\", force_remount=True).\n",
            "== Dataset Paths ==\n",
            "ratings.csv: /content/drive/MyDrive/Penelitian/uas/ratings.csv\n",
            "movies.csv: /content/drive/MyDrive/Penelitian/uas/movies.csv\n",
            "tags.csv: /content/drive/MyDrive/Penelitian/uas/tags.csv\n",
            "genome-scores.csv: /content/drive/MyDrive/Penelitian/uas/genome-scores.csv\n",
            "genome-tags.csv: /content/drive/MyDrive/Penelitian/uas/genome-tags.csv\n",
            "links.csv: /content/drive/MyDrive/Penelitian/uas/links.csv\n",
            "N ratings=20,000,263 | users=138,493 | movies=26,744\n",
            "Setup OK → FIG_DIR: /content/drive/MyDrive/Penelitian/uas/models/figs\n"
          ]
        }
      ]
    },
    {
      "cell_type": "code",
      "source": [
        "plt.figure(figsize=(8,5))\n",
        "ax = sns.histplot(ratings['rating'], bins=np.arange(R_MIN, R_MAX+0.5, 0.5), edgecolor='white')\n",
        "plt.title(\"🎬 Distribusi Rating\", fontsize=14)\n",
        "plt.xlabel(\"Rating\"); plt.ylabel(\"Frekuensi\")\n",
        "for p in ax.patches:\n",
        "    height = p.get_height()\n",
        "    if height>0:\n",
        "        ax.annotate(f\"{int(height):,}\", (p.get_x()+p.get_width()/2, height),\n",
        "                    ha='center', va='bottom', fontsize=8, rotation=90)\n",
        "plt.tight_layout();\n",
        "out = os.path.join(FIG_DIR, 'rating_distribution.png')\n",
        "plt.savefig(out, dpi=150); plt.close()\n",
        "print(\"Saved:\", out)\n"
      ],
      "metadata": {
        "id": "tV5W9S4H73ln",
        "outputId": "983e84c8-923e-4655-96e0-b31117375ceb",
        "colab": {
          "base_uri": "https://localhost:8080/"
        }
      },
      "execution_count": 12,
      "outputs": [
        {
          "output_type": "stream",
          "name": "stderr",
          "text": [
            "/tmp/ipython-input-650958374.py:12: UserWarning: Glyph 127916 (\\N{CLAPPER BOARD}) missing from font(s) DejaVu Sans.\n",
            "  plt.tight_layout();\n",
            "/tmp/ipython-input-650958374.py:14: UserWarning: Glyph 127916 (\\N{CLAPPER BOARD}) missing from font(s) DejaVu Sans.\n",
            "  plt.savefig(out, dpi=150); plt.close()\n"
          ]
        },
        {
          "output_type": "stream",
          "name": "stdout",
          "text": [
            "Saved: /content/drive/MyDrive/Penelitian/uas/models/figs/rating_distribution.png\n"
          ]
        }
      ]
    },
    {
      "cell_type": "code",
      "source": [
        "# EDA-3 — Interaksi per User\n",
        "user_cnt = ratings.groupby('userid').size()\n",
        "user_cnt.to_csv(os.path.join(MODEL_DIR,'user_interaction_counts.csv'))\n",
        "\n",
        "# linear\n",
        "plt.figure(figsize=(8,5))\n",
        "sns.histplot(user_cnt, bins=100, edgecolor='white')\n",
        "plt.title(\"👤 Distribusi Interaksi per User (Linear)\")\n",
        "plt.xlabel(\"# Interaksi\"); plt.ylabel(\"Frekuensi\")\n",
        "plt.tight_layout();\n",
        "out1 = os.path.join(FIG_DIR, 'interaksi_per_user_linear.png')\n",
        "plt.savefig(out1, dpi=150); plt.close()\n",
        "\n",
        "# log-scale\n",
        "plt.figure(figsize=(8,5))\n",
        "sns.histplot(user_cnt, bins=100, edgecolor='white', log_scale=(False, True))\n",
        "plt.title(\"👤 Distribusi Interaksi per User (Y Log-Scale)\")\n",
        "plt.xlabel(\"# Interaksi\"); plt.ylabel(\"Frekuensi (log)\")\n",
        "plt.tight_layout();\n",
        "out2 = os.path.join(FIG_DIR, 'interaksi_per_user_log.png')\n",
        "plt.savefig(out2, dpi=150); plt.close()\n",
        "\n",
        "print(\"Saved:\", out1, \"|\", out2)\n"
      ],
      "metadata": {
        "id": "uEQaMRqI8G9O",
        "outputId": "601f6f46-acc3-4c05-9e55-e1812320ebde",
        "colab": {
          "base_uri": "https://localhost:8080/"
        }
      },
      "execution_count": 13,
      "outputs": [
        {
          "output_type": "stream",
          "name": "stderr",
          "text": [
            "/tmp/ipython-input-389665634.py:10: UserWarning: Glyph 128100 (\\N{BUST IN SILHOUETTE}) missing from font(s) DejaVu Sans.\n",
            "  plt.tight_layout();\n",
            "/tmp/ipython-input-389665634.py:12: UserWarning: Glyph 128100 (\\N{BUST IN SILHOUETTE}) missing from font(s) DejaVu Sans.\n",
            "  plt.savefig(out1, dpi=150); plt.close()\n",
            "/tmp/ipython-input-389665634.py:19: UserWarning: Glyph 128100 (\\N{BUST IN SILHOUETTE}) missing from font(s) DejaVu Sans.\n",
            "  plt.tight_layout();\n",
            "/tmp/ipython-input-389665634.py:21: UserWarning: Glyph 128100 (\\N{BUST IN SILHOUETTE}) missing from font(s) DejaVu Sans.\n",
            "  plt.savefig(out2, dpi=150); plt.close()\n"
          ]
        },
        {
          "output_type": "stream",
          "name": "stdout",
          "text": [
            "Saved: /content/drive/MyDrive/Penelitian/uas/models/figs/interaksi_per_user_linear.png | /content/drive/MyDrive/Penelitian/uas/models/figs/interaksi_per_user_log.png\n"
          ]
        }
      ]
    },
    {
      "cell_type": "code",
      "source": [
        "# EDA-4 — Interaksi per Item\n",
        "item_cnt = ratings.groupby('movieid').size()\n",
        "item_cnt.to_csv(os.path.join(MODEL_DIR,'item_interaction_counts.csv'))\n",
        "\n",
        "# linear\n",
        "plt.figure(figsize=(8,5))\n",
        "sns.histplot(item_cnt, bins=100, edgecolor='white')\n",
        "plt.title(\"🍿 Distribusi Interaksi per Item (Linear)\")\n",
        "plt.xlabel(\"# Interaksi per Film\"); plt.ylabel(\"Frekuensi\")\n",
        "plt.tight_layout();\n",
        "out1 = os.path.join(FIG_DIR, 'interaksi_per_item_linear.png')\n",
        "plt.savefig(out1, dpi=150); plt.close()\n",
        "\n",
        "# log-scale\n",
        "plt.figure(figsize=(8,5))\n",
        "sns.histplot(item_cnt, bins=100, edgecolor='white', log_scale=(False, True))\n",
        "plt.title(\"🍿 Distribusi Interaksi per Item (Y Log-Scale)\")\n",
        "plt.xlabel(\"# Interaksi per Film\"); plt.ylabel(\"Frekuensi (log)\")\n",
        "plt.tight_layout();\n",
        "out2 = os.path.join(FIG_DIR, 'interaksi_per_item_log.png')\n",
        "plt.savefig(out2, dpi=150); plt.close()\n",
        "\n",
        "# Top 20 film terpopuler\n",
        "top_items = item_cnt.sort_values(ascending=False).head(20).rename('count').reset_index()\n",
        "top_items = top_items.merge(movies[['movieid','title']], left_on='movieid', right_on='movieid', how='left')\n",
        "plt.figure(figsize=(10,6))\n",
        "sns.barplot(data=top_items, y='title', x='count', orient='h')\n",
        "plt.title(\"🏆 Top 20 Film Terpopuler (berdasarkan jumlah interaksi)\")\n",
        "plt.xlabel(\"Jumlah Interaksi\"); plt.ylabel(\"Film\")\n",
        "plt.tight_layout();\n",
        "out3 = os.path.join(FIG_DIR, 'top20_popular_movies.png')\n",
        "plt.savefig(out3, dpi=150); plt.close()\n",
        "\n",
        "top_items.to_csv(os.path.join(MODEL_DIR,'top20_popular_movies.csv'), index=False)\n",
        "print(\"Saved:\", out1, \"|\", out2, \"|\", out3)\n"
      ],
      "metadata": {
        "id": "EwhpQqS78KUC",
        "outputId": "9e084fc9-5513-4069-aca3-e3fc0dd0cc6d",
        "colab": {
          "base_uri": "https://localhost:8080/"
        }
      },
      "execution_count": 14,
      "outputs": [
        {
          "output_type": "stream",
          "name": "stderr",
          "text": [
            "/tmp/ipython-input-681559630.py:10: UserWarning: Glyph 127871 (\\N{POPCORN}) missing from font(s) DejaVu Sans.\n",
            "  plt.tight_layout();\n",
            "/tmp/ipython-input-681559630.py:12: UserWarning: Glyph 127871 (\\N{POPCORN}) missing from font(s) DejaVu Sans.\n",
            "  plt.savefig(out1, dpi=150); plt.close()\n",
            "/tmp/ipython-input-681559630.py:19: UserWarning: Glyph 127871 (\\N{POPCORN}) missing from font(s) DejaVu Sans.\n",
            "  plt.tight_layout();\n",
            "/tmp/ipython-input-681559630.py:21: UserWarning: Glyph 127871 (\\N{POPCORN}) missing from font(s) DejaVu Sans.\n",
            "  plt.savefig(out2, dpi=150); plt.close()\n",
            "/tmp/ipython-input-681559630.py:30: UserWarning: Glyph 127942 (\\N{TROPHY}) missing from font(s) DejaVu Sans.\n",
            "  plt.tight_layout();\n",
            "/tmp/ipython-input-681559630.py:32: UserWarning: Glyph 127942 (\\N{TROPHY}) missing from font(s) DejaVu Sans.\n",
            "  plt.savefig(out3, dpi=150); plt.close()\n"
          ]
        },
        {
          "output_type": "stream",
          "name": "stdout",
          "text": [
            "Saved: /content/drive/MyDrive/Penelitian/uas/models/figs/interaksi_per_item_linear.png | /content/drive/MyDrive/Penelitian/uas/models/figs/interaksi_per_item_log.png | /content/drive/MyDrive/Penelitian/uas/models/figs/top20_popular_movies.png\n"
          ]
        }
      ]
    },
    {
      "cell_type": "code",
      "source": [
        "# EDA-5 — Sparsity & Heatmap (subset)\n",
        "n_users = ratings['userid'].nunique()\n",
        "n_items = ratings['movieid'].nunique()\n",
        "density = len(ratings) / (n_users * n_items)\n",
        "with open(os.path.join(MODEL_DIR,'sparsity.txt'), 'w') as f:\n",
        "    f.write(f\"Interactions: {len(ratings):,}\\nUsers: {n_users:,}\\nItems: {n_items:,}\\nDensity: {density:.8f}\\n\")\n",
        "print(f\"Sparsity density = {density:.8f}\")\n",
        "\n",
        "# Heatmap subset (random 100 user x 100 item)\n",
        "np.random.seed(42)\n",
        "sample_users = np.random.choice(ratings['userid'].unique(), size=min(100, n_users), replace=False)\n",
        "sample_items = np.random.choice(ratings['movieid'].unique(), size=min(100, n_items), replace=False)\n",
        "sub = ratings[ratings['userid'].isin(sample_users) & ratings['movieid'].isin(sample_items)]\n",
        "\n",
        "pivot = sub.pivot_table(index='userid', columns='movieid', values='rating')\n",
        "plt.figure(figsize=(10,7))\n",
        "sns.heatmap(pivot, cmap='viridis', cbar=True)\n",
        "plt.title(\"🔥 Heatmap Interaksi User–Item (subset 100×100)\")\n",
        "plt.xlabel(\"Item (movieid)\"); plt.ylabel(\"User (userid)\")\n",
        "plt.tight_layout();\n",
        "out = os.path.join(FIG_DIR, 'heatmap_user_item_subset.png')\n",
        "plt.savefig(out, dpi=150); plt.close()\n",
        "print(\"Saved:\", out)\n"
      ],
      "metadata": {
        "id": "099UHg8t8OJm",
        "outputId": "064df6f5-a186-4fc6-9be4-3d77c02b4f52",
        "colab": {
          "base_uri": "https://localhost:8080/"
        }
      },
      "execution_count": 15,
      "outputs": [
        {
          "output_type": "stream",
          "name": "stdout",
          "text": [
            "Sparsity density = 0.00539985\n"
          ]
        },
        {
          "output_type": "stream",
          "name": "stderr",
          "text": [
            "/tmp/ipython-input-2200690696.py:20: UserWarning: Glyph 128293 (\\N{FIRE}) missing from font(s) DejaVu Sans.\n",
            "  plt.tight_layout();\n",
            "/tmp/ipython-input-2200690696.py:22: UserWarning: Glyph 128293 (\\N{FIRE}) missing from font(s) DejaVu Sans.\n",
            "  plt.savefig(out, dpi=150); plt.close()\n"
          ]
        },
        {
          "output_type": "stream",
          "name": "stdout",
          "text": [
            "Saved: /content/drive/MyDrive/Penelitian/uas/models/figs/heatmap_user_item_subset.png\n"
          ]
        }
      ]
    },
    {
      "cell_type": "code",
      "source": [
        "# EDA-6 — Genre & Tag\n",
        "movies['genres'] = movies['genres'].fillna('(no genres listed)')\n",
        "movies['genres_list'] = movies['genres'].apply(lambda s: s.split('|'))\n",
        "all_genres = pd.Series([g for lst in movies['genres_list'] for g in lst if g and g!='(no genres listed)'])\n",
        "top_genres = all_genres.value_counts().head(20)\n",
        "top_genres.to_csv(os.path.join(MODEL_DIR,'top_genres.csv'))\n",
        "\n",
        "plt.figure(figsize=(10,6))\n",
        "sns.barplot(x=top_genres.values, y=top_genres.index, orient='h')\n",
        "plt.title(\"🎭 Top 20 Genres\")\n",
        "plt.xlabel(\"Frekuensi\"); plt.ylabel(\"Genre\")\n",
        "plt.tight_layout();\n",
        "out1 = os.path.join(FIG_DIR, 'top_genres.png')\n",
        "plt.savefig(out1, dpi=150); plt.close()\n",
        "\n",
        "# Tag user (lowercase, strip)\n",
        "tags['tag'] = tags['tag'].fillna('').str.lower().str.strip()\n",
        "top_tags = tags['tag'].value_counts().head(40)\n",
        "top_tags.to_csv(os.path.join(MODEL_DIR,'top_user_tags.csv'))\n",
        "\n",
        "plt.figure(figsize=(10,10))\n",
        "sns.barplot(x=top_tags.values, y=top_tags.index, orient='h')\n",
        "plt.title(\"🏷️ Top 40 User Tags\")\n",
        "plt.xlabel(\"Frekuensi\"); plt.ylabel(\"Tag\")\n",
        "plt.tight_layout();\n",
        "out2 = os.path.join(FIG_DIR, 'top_user_tags.png')\n",
        "plt.savefig(out2, dpi=150); plt.close()\n",
        "\n",
        "print(\"Saved:\", out1, \"|\", out2)\n"
      ],
      "metadata": {
        "id": "8X3XhIoD8Rbf",
        "outputId": "dce56c3f-9031-4f67-f512-228b3a618272",
        "colab": {
          "base_uri": "https://localhost:8080/"
        }
      },
      "execution_count": 16,
      "outputs": [
        {
          "output_type": "stream",
          "name": "stderr",
          "text": [
            "/tmp/ipython-input-2619500535.py:12: UserWarning: Glyph 127917 (\\N{PERFORMING ARTS}) missing from font(s) DejaVu Sans.\n",
            "  plt.tight_layout();\n",
            "/tmp/ipython-input-2619500535.py:14: UserWarning: Glyph 127917 (\\N{PERFORMING ARTS}) missing from font(s) DejaVu Sans.\n",
            "  plt.savefig(out1, dpi=150); plt.close()\n",
            "/tmp/ipython-input-2619500535.py:25: UserWarning: Glyph 127991 (\\N{LABEL}) missing from font(s) DejaVu Sans.\n",
            "  plt.tight_layout();\n",
            "/tmp/ipython-input-2619500535.py:27: UserWarning: Glyph 127991 (\\N{LABEL}) missing from font(s) DejaVu Sans.\n",
            "  plt.savefig(out2, dpi=150); plt.close()\n"
          ]
        },
        {
          "output_type": "stream",
          "name": "stdout",
          "text": [
            "Saved: /content/drive/MyDrive/Penelitian/uas/models/figs/top_genres.png | /content/drive/MyDrive/Penelitian/uas/models/figs/top_user_tags.png\n"
          ]
        }
      ]
    },
    {
      "cell_type": "code",
      "source": [
        "# EDA-7 — Tren Tahun & Korelasi Popularitas–Rating\n",
        "year_counts = movies['year'].dropna().astype(int).value_counts().sort_index()\n",
        "plt.figure(figsize=(12,4))\n",
        "sns.lineplot(x=year_counts.index, y=year_counts.values)\n",
        "plt.title(\"📅 Jumlah Film per Tahun (berdasarkan judul)\")\n",
        "plt.xlabel(\"Tahun\"); plt.ylabel(\"Jumlah Film\")\n",
        "plt.tight_layout();\n",
        "out1 = os.path.join(FIG_DIR, 'film_per_year.png')\n",
        "plt.savefig(out1, dpi=150); plt.close()\n",
        "movie_stats = ratings.groupby('movieid').agg(\n",
        "    pop=('rating','size'),\n",
        "    mean_rating=('rating','mean')\n",
        ").reset_index()\n",
        "movie_stats = movie_stats.merge(movies[['movieid','title']], on='movieid', how='left')\n",
        "\n",
        "plt.figure(figsize=(8,6))\n",
        "sns.scatterplot(data=movie_stats, x='pop', y='mean_rating', alpha=0.3)\n",
        "plt.xscale('log')\n",
        "plt.title(\"📈 Popularitas vs Rata-rata Rating (log scale pada Popularitas)\")\n",
        "plt.xlabel(\"Popularitas (# rating, log)\"); plt.ylabel(\"Mean Rating\")\n",
        "plt.tight_layout();\n",
        "out2 = os.path.join(FIG_DIR, 'pop_vs_mean_rating.png')\n",
        "plt.savefig(out2, dpi=150); plt.close()\n",
        "\n",
        "movie_stats.sort_values('pop', ascending=False).head(50).to_csv(os.path.join(MODEL_DIR,'top50_pop_vs_rating.csv'), index=False)\n",
        "print(\"Saved:\", out1, \"|\", out2)\n"
      ],
      "metadata": {
        "id": "b7M41Mfy8UBx",
        "outputId": "ae7ad765-879d-4276-b2ba-bcb881fadbc8",
        "colab": {
          "base_uri": "https://localhost:8080/"
        }
      },
      "execution_count": 17,
      "outputs": [
        {
          "output_type": "stream",
          "name": "stderr",
          "text": [
            "/tmp/ipython-input-1875243458.py:7: UserWarning: Glyph 128197 (\\N{CALENDAR}) missing from font(s) DejaVu Sans.\n",
            "  plt.tight_layout();\n",
            "/tmp/ipython-input-1875243458.py:9: UserWarning: Glyph 128197 (\\N{CALENDAR}) missing from font(s) DejaVu Sans.\n",
            "  plt.savefig(out1, dpi=150); plt.close()\n",
            "/tmp/ipython-input-1875243458.py:23: UserWarning: Glyph 128200 (\\N{CHART WITH UPWARDS TREND}) missing from font(s) DejaVu Sans.\n",
            "  plt.tight_layout();\n",
            "/tmp/ipython-input-1875243458.py:25: UserWarning: Glyph 128200 (\\N{CHART WITH UPWARDS TREND}) missing from font(s) DejaVu Sans.\n",
            "  plt.savefig(out2, dpi=150); plt.close()\n"
          ]
        },
        {
          "output_type": "stream",
          "name": "stdout",
          "text": [
            "Saved: /content/drive/MyDrive/Penelitian/uas/models/figs/film_per_year.png | /content/drive/MyDrive/Penelitian/uas/models/figs/pop_vs_mean_rating.png\n"
          ]
        }
      ]
    },
    {
      "cell_type": "code",
      "source": [
        "# EDA-8 — Ringkasan & daftar gambar\n",
        "exports = [\n",
        "    'rating_distribution.png',\n",
        "    'interaksi_per_user_linear.png',\n",
        "    'interaksi_per_user_log.png',\n",
        "    'interaksi_per_item_linear.png',\n",
        "    'interaksi_per_item_log.png',\n",
        "    'top20_popular_movies.png',\n",
        "    'heatmap_user_item_subset.png',\n",
        "    'top_genres.png',\n",
        "    'top_user_tags.png',\n",
        "    'film_per_year.png',\n",
        "    'pop_vs_mean_rating.png'\n",
        "]\n",
        "print(\"== Gambar tersimpan di:\", FIG_DIR)\n",
        "for fn in exports:\n",
        "    p = os.path.join(FIG_DIR, fn)\n",
        "    print(\" •\", fn, \"✓\" if os.path.exists(p) else \"×\")\n",
        "with open(os.path.join(MODEL_DIR,'eda_images.json'),'w') as f:\n",
        "    json.dump({'figs':[os.path.join('figs',x) for x in exports]}, f, indent=2)\n",
        "\n",
        "print(\"\\nEDA lengkap ✔️\")\n"
      ],
      "metadata": {
        "id": "Uml_iALB8YCY",
        "outputId": "41380ab1-3097-4fc7-bab8-edd6f00c2811",
        "colab": {
          "base_uri": "https://localhost:8080/"
        }
      },
      "execution_count": 18,
      "outputs": [
        {
          "output_type": "stream",
          "name": "stdout",
          "text": [
            "== Gambar tersimpan di: /content/drive/MyDrive/Penelitian/uas/models/figs\n",
            " • rating_distribution.png ✓\n",
            " • interaksi_per_user_linear.png ✓\n",
            " • interaksi_per_user_log.png ✓\n",
            " • interaksi_per_item_linear.png ✓\n",
            " • interaksi_per_item_log.png ✓\n",
            " • top20_popular_movies.png ✓\n",
            " • heatmap_user_item_subset.png ✓\n",
            " • top_genres.png ✓\n",
            " • top_user_tags.png ✓\n",
            " • film_per_year.png ✓\n",
            " • pop_vs_mean_rating.png ✓\n",
            "\n",
            "EDA lengkap ✔️\n"
          ]
        }
      ]
    }
  ],
  "metadata": {
    "colab": {
      "provenance": [],
      "authorship_tag": "ABX9TyO/n6uADxiSB3Bv1Vu2tLsh",
      "include_colab_link": true
    },
    "kernelspec": {
      "display_name": "Python 3",
      "name": "python3"
    },
    "language_info": {
      "name": "python"
    }
  },
  "nbformat": 4,
  "nbformat_minor": 0
}